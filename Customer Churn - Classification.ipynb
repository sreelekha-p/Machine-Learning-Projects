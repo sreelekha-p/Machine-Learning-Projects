{
 "cells": [
  {
   "cell_type": "markdown",
   "metadata": {},
   "source": [
    " # PROJECT 2: CLASSIFICATION TASK"
   ]
  },
  {
   "cell_type": "markdown",
   "metadata": {},
   "source": [
    "## Importing Packages"
   ]
  },
  {
   "cell_type": "code",
   "execution_count": 1,
   "metadata": {},
   "outputs": [],
   "source": [
    "import pandas as pd\n",
    "import numpy as np\n",
    "import matplotlib.pyplot as plt\n",
    "import seaborn as sns\n",
    "from sklearn.model_selection import GridSearchCV\n",
    "%matplotlib inline\n",
    "import warnings\n",
    "warnings.filterwarnings(\"ignore\")"
   ]
  },
  {
   "cell_type": "code",
   "execution_count": 2,
   "metadata": {},
   "outputs": [],
   "source": [
    "df = pd.read_csv('Churn_Prediction_Problem.csv')"
   ]
  },
  {
   "cell_type": "code",
   "execution_count": 3,
   "metadata": {},
   "outputs": [
    {
     "data": {
      "text/html": [
       "<div>\n",
       "<style scoped>\n",
       "    .dataframe tbody tr th:only-of-type {\n",
       "        vertical-align: middle;\n",
       "    }\n",
       "\n",
       "    .dataframe tbody tr th {\n",
       "        vertical-align: top;\n",
       "    }\n",
       "\n",
       "    .dataframe thead th {\n",
       "        text-align: right;\n",
       "    }\n",
       "</style>\n",
       "<table border=\"1\" class=\"dataframe\">\n",
       "  <thead>\n",
       "    <tr style=\"text-align: right;\">\n",
       "      <th></th>\n",
       "      <th>RowNumber</th>\n",
       "      <th>CustomerId</th>\n",
       "      <th>Surname</th>\n",
       "      <th>CreditScore</th>\n",
       "      <th>Geography</th>\n",
       "      <th>Gender</th>\n",
       "      <th>Age</th>\n",
       "      <th>Tenure</th>\n",
       "      <th>Balance</th>\n",
       "      <th>NumOfProducts</th>\n",
       "      <th>HasCrCard</th>\n",
       "      <th>IsActiveMember</th>\n",
       "      <th>EstimatedSalary</th>\n",
       "      <th>Exited</th>\n",
       "    </tr>\n",
       "  </thead>\n",
       "  <tbody>\n",
       "    <tr>\n",
       "      <th>0</th>\n",
       "      <td>1</td>\n",
       "      <td>15634602</td>\n",
       "      <td>Hargrave</td>\n",
       "      <td>619</td>\n",
       "      <td>France</td>\n",
       "      <td>Female</td>\n",
       "      <td>42</td>\n",
       "      <td>2</td>\n",
       "      <td>NaN</td>\n",
       "      <td>1</td>\n",
       "      <td>1</td>\n",
       "      <td>1</td>\n",
       "      <td>101348.88</td>\n",
       "      <td>1</td>\n",
       "    </tr>\n",
       "    <tr>\n",
       "      <th>1</th>\n",
       "      <td>2</td>\n",
       "      <td>15647311</td>\n",
       "      <td>Hill</td>\n",
       "      <td>608</td>\n",
       "      <td>Spain</td>\n",
       "      <td>Female</td>\n",
       "      <td>41</td>\n",
       "      <td>1</td>\n",
       "      <td>83807.86</td>\n",
       "      <td>1</td>\n",
       "      <td>0</td>\n",
       "      <td>1</td>\n",
       "      <td>112542.58</td>\n",
       "      <td>0</td>\n",
       "    </tr>\n",
       "    <tr>\n",
       "      <th>2</th>\n",
       "      <td>3</td>\n",
       "      <td>15619304</td>\n",
       "      <td>Onio</td>\n",
       "      <td>502</td>\n",
       "      <td>France</td>\n",
       "      <td>Female</td>\n",
       "      <td>42</td>\n",
       "      <td>8</td>\n",
       "      <td>159660.80</td>\n",
       "      <td>3</td>\n",
       "      <td>1</td>\n",
       "      <td>0</td>\n",
       "      <td>113931.57</td>\n",
       "      <td>1</td>\n",
       "    </tr>\n",
       "    <tr>\n",
       "      <th>3</th>\n",
       "      <td>4</td>\n",
       "      <td>15701354</td>\n",
       "      <td>Boni</td>\n",
       "      <td>699</td>\n",
       "      <td>France</td>\n",
       "      <td>Female</td>\n",
       "      <td>39</td>\n",
       "      <td>1</td>\n",
       "      <td>NaN</td>\n",
       "      <td>2</td>\n",
       "      <td>0</td>\n",
       "      <td>0</td>\n",
       "      <td>93826.63</td>\n",
       "      <td>0</td>\n",
       "    </tr>\n",
       "    <tr>\n",
       "      <th>4</th>\n",
       "      <td>5</td>\n",
       "      <td>15737888</td>\n",
       "      <td>Mitchell</td>\n",
       "      <td>850</td>\n",
       "      <td>Spain</td>\n",
       "      <td>Female</td>\n",
       "      <td>43</td>\n",
       "      <td>2</td>\n",
       "      <td>125510.82</td>\n",
       "      <td>1</td>\n",
       "      <td>1</td>\n",
       "      <td>1</td>\n",
       "      <td>79084.10</td>\n",
       "      <td>0</td>\n",
       "    </tr>\n",
       "  </tbody>\n",
       "</table>\n",
       "</div>"
      ],
      "text/plain": [
       "   RowNumber  CustomerId   Surname  CreditScore Geography  Gender  Age  \\\n",
       "0          1    15634602  Hargrave          619    France  Female   42   \n",
       "1          2    15647311      Hill          608     Spain  Female   41   \n",
       "2          3    15619304      Onio          502    France  Female   42   \n",
       "3          4    15701354      Boni          699    France  Female   39   \n",
       "4          5    15737888  Mitchell          850     Spain  Female   43   \n",
       "\n",
       "   Tenure    Balance  NumOfProducts  HasCrCard  IsActiveMember  \\\n",
       "0       2        NaN              1          1               1   \n",
       "1       1   83807.86              1          0               1   \n",
       "2       8  159660.80              3          1               0   \n",
       "3       1        NaN              2          0               0   \n",
       "4       2  125510.82              1          1               1   \n",
       "\n",
       "   EstimatedSalary  Exited  \n",
       "0        101348.88       1  \n",
       "1        112542.58       0  \n",
       "2        113931.57       1  \n",
       "3         93826.63       0  \n",
       "4         79084.10       0  "
      ]
     },
     "execution_count": 3,
     "metadata": {},
     "output_type": "execute_result"
    }
   ],
   "source": [
    "df.head() "
   ]
  },
  {
   "cell_type": "code",
   "execution_count": 4,
   "metadata": {},
   "outputs": [
    {
     "name": "stdout",
     "output_type": "stream",
     "text": [
      "<class 'pandas.core.frame.DataFrame'>\n",
      "RangeIndex: 10000 entries, 0 to 9999\n",
      "Data columns (total 14 columns):\n",
      "RowNumber          10000 non-null int64\n",
      "CustomerId         10000 non-null int64\n",
      "Surname            10000 non-null object\n",
      "CreditScore        10000 non-null int64\n",
      "Geography          10000 non-null object\n",
      "Gender             10000 non-null object\n",
      "Age                10000 non-null int64\n",
      "Tenure             10000 non-null int64\n",
      "Balance            6383 non-null float64\n",
      "NumOfProducts      10000 non-null int64\n",
      "HasCrCard          10000 non-null int64\n",
      "IsActiveMember     10000 non-null int64\n",
      "EstimatedSalary    10000 non-null float64\n",
      "Exited             10000 non-null int64\n",
      "dtypes: float64(2), int64(9), object(3)\n",
      "memory usage: 1.1+ MB\n"
     ]
    }
   ],
   "source": [
    "df.info()"
   ]
  },
  {
   "cell_type": "code",
   "execution_count": 5,
   "metadata": {},
   "outputs": [
    {
     "data": {
      "text/html": [
       "<div>\n",
       "<style scoped>\n",
       "    .dataframe tbody tr th:only-of-type {\n",
       "        vertical-align: middle;\n",
       "    }\n",
       "\n",
       "    .dataframe tbody tr th {\n",
       "        vertical-align: top;\n",
       "    }\n",
       "\n",
       "    .dataframe thead th {\n",
       "        text-align: right;\n",
       "    }\n",
       "</style>\n",
       "<table border=\"1\" class=\"dataframe\">\n",
       "  <thead>\n",
       "    <tr style=\"text-align: right;\">\n",
       "      <th></th>\n",
       "      <th>RowNumber</th>\n",
       "      <th>CustomerId</th>\n",
       "      <th>CreditScore</th>\n",
       "      <th>Age</th>\n",
       "      <th>Tenure</th>\n",
       "      <th>Balance</th>\n",
       "      <th>NumOfProducts</th>\n",
       "      <th>HasCrCard</th>\n",
       "      <th>IsActiveMember</th>\n",
       "      <th>EstimatedSalary</th>\n",
       "      <th>Exited</th>\n",
       "    </tr>\n",
       "  </thead>\n",
       "  <tbody>\n",
       "    <tr>\n",
       "      <th>count</th>\n",
       "      <td>10000.00000</td>\n",
       "      <td>1.000000e+04</td>\n",
       "      <td>10000.000000</td>\n",
       "      <td>10000.000000</td>\n",
       "      <td>10000.000000</td>\n",
       "      <td>6383.000000</td>\n",
       "      <td>10000.000000</td>\n",
       "      <td>10000.00000</td>\n",
       "      <td>10000.000000</td>\n",
       "      <td>10000.000000</td>\n",
       "      <td>10000.000000</td>\n",
       "    </tr>\n",
       "    <tr>\n",
       "      <th>mean</th>\n",
       "      <td>5000.50000</td>\n",
       "      <td>1.569094e+07</td>\n",
       "      <td>650.528800</td>\n",
       "      <td>38.921800</td>\n",
       "      <td>5.012800</td>\n",
       "      <td>119827.493793</td>\n",
       "      <td>1.530200</td>\n",
       "      <td>0.70550</td>\n",
       "      <td>0.515100</td>\n",
       "      <td>100090.239881</td>\n",
       "      <td>0.203700</td>\n",
       "    </tr>\n",
       "    <tr>\n",
       "      <th>std</th>\n",
       "      <td>2886.89568</td>\n",
       "      <td>7.193619e+04</td>\n",
       "      <td>96.653299</td>\n",
       "      <td>10.487806</td>\n",
       "      <td>2.892174</td>\n",
       "      <td>30095.056462</td>\n",
       "      <td>0.581654</td>\n",
       "      <td>0.45584</td>\n",
       "      <td>0.499797</td>\n",
       "      <td>57510.492818</td>\n",
       "      <td>0.402769</td>\n",
       "    </tr>\n",
       "    <tr>\n",
       "      <th>min</th>\n",
       "      <td>1.00000</td>\n",
       "      <td>1.556570e+07</td>\n",
       "      <td>350.000000</td>\n",
       "      <td>18.000000</td>\n",
       "      <td>0.000000</td>\n",
       "      <td>3768.690000</td>\n",
       "      <td>1.000000</td>\n",
       "      <td>0.00000</td>\n",
       "      <td>0.000000</td>\n",
       "      <td>11.580000</td>\n",
       "      <td>0.000000</td>\n",
       "    </tr>\n",
       "    <tr>\n",
       "      <th>25%</th>\n",
       "      <td>2500.75000</td>\n",
       "      <td>1.562853e+07</td>\n",
       "      <td>584.000000</td>\n",
       "      <td>32.000000</td>\n",
       "      <td>3.000000</td>\n",
       "      <td>100181.975000</td>\n",
       "      <td>1.000000</td>\n",
       "      <td>0.00000</td>\n",
       "      <td>0.000000</td>\n",
       "      <td>51002.110000</td>\n",
       "      <td>0.000000</td>\n",
       "    </tr>\n",
       "    <tr>\n",
       "      <th>50%</th>\n",
       "      <td>5000.50000</td>\n",
       "      <td>1.569074e+07</td>\n",
       "      <td>652.000000</td>\n",
       "      <td>37.000000</td>\n",
       "      <td>5.000000</td>\n",
       "      <td>119839.690000</td>\n",
       "      <td>1.000000</td>\n",
       "      <td>1.00000</td>\n",
       "      <td>1.000000</td>\n",
       "      <td>100193.915000</td>\n",
       "      <td>0.000000</td>\n",
       "    </tr>\n",
       "    <tr>\n",
       "      <th>75%</th>\n",
       "      <td>7500.25000</td>\n",
       "      <td>1.575323e+07</td>\n",
       "      <td>718.000000</td>\n",
       "      <td>44.000000</td>\n",
       "      <td>7.000000</td>\n",
       "      <td>139512.290000</td>\n",
       "      <td>2.000000</td>\n",
       "      <td>1.00000</td>\n",
       "      <td>1.000000</td>\n",
       "      <td>149388.247500</td>\n",
       "      <td>0.000000</td>\n",
       "    </tr>\n",
       "    <tr>\n",
       "      <th>max</th>\n",
       "      <td>10000.00000</td>\n",
       "      <td>1.581569e+07</td>\n",
       "      <td>850.000000</td>\n",
       "      <td>92.000000</td>\n",
       "      <td>10.000000</td>\n",
       "      <td>250898.090000</td>\n",
       "      <td>4.000000</td>\n",
       "      <td>1.00000</td>\n",
       "      <td>1.000000</td>\n",
       "      <td>199992.480000</td>\n",
       "      <td>1.000000</td>\n",
       "    </tr>\n",
       "  </tbody>\n",
       "</table>\n",
       "</div>"
      ],
      "text/plain": [
       "         RowNumber    CustomerId   CreditScore           Age        Tenure  \\\n",
       "count  10000.00000  1.000000e+04  10000.000000  10000.000000  10000.000000   \n",
       "mean    5000.50000  1.569094e+07    650.528800     38.921800      5.012800   \n",
       "std     2886.89568  7.193619e+04     96.653299     10.487806      2.892174   \n",
       "min        1.00000  1.556570e+07    350.000000     18.000000      0.000000   \n",
       "25%     2500.75000  1.562853e+07    584.000000     32.000000      3.000000   \n",
       "50%     5000.50000  1.569074e+07    652.000000     37.000000      5.000000   \n",
       "75%     7500.25000  1.575323e+07    718.000000     44.000000      7.000000   \n",
       "max    10000.00000  1.581569e+07    850.000000     92.000000     10.000000   \n",
       "\n",
       "             Balance  NumOfProducts    HasCrCard  IsActiveMember  \\\n",
       "count    6383.000000   10000.000000  10000.00000    10000.000000   \n",
       "mean   119827.493793       1.530200      0.70550        0.515100   \n",
       "std     30095.056462       0.581654      0.45584        0.499797   \n",
       "min      3768.690000       1.000000      0.00000        0.000000   \n",
       "25%    100181.975000       1.000000      0.00000        0.000000   \n",
       "50%    119839.690000       1.000000      1.00000        1.000000   \n",
       "75%    139512.290000       2.000000      1.00000        1.000000   \n",
       "max    250898.090000       4.000000      1.00000        1.000000   \n",
       "\n",
       "       EstimatedSalary        Exited  \n",
       "count     10000.000000  10000.000000  \n",
       "mean     100090.239881      0.203700  \n",
       "std       57510.492818      0.402769  \n",
       "min          11.580000      0.000000  \n",
       "25%       51002.110000      0.000000  \n",
       "50%      100193.915000      0.000000  \n",
       "75%      149388.247500      0.000000  \n",
       "max      199992.480000      1.000000  "
      ]
     },
     "execution_count": 5,
     "metadata": {},
     "output_type": "execute_result"
    }
   ],
   "source": [
    "df.describe()"
   ]
  },
  {
   "cell_type": "code",
   "execution_count": 6,
   "metadata": {},
   "outputs": [
    {
     "data": {
      "text/plain": [
       "(10000, 14)"
      ]
     },
     "execution_count": 6,
     "metadata": {},
     "output_type": "execute_result"
    }
   ],
   "source": [
    "df.shape"
   ]
  },
  {
   "cell_type": "code",
   "execution_count": 7,
   "metadata": {},
   "outputs": [
    {
     "data": {
      "text/plain": [
       "RowNumber             0\n",
       "CustomerId            0\n",
       "Surname               0\n",
       "CreditScore           0\n",
       "Geography             0\n",
       "Gender                0\n",
       "Age                   0\n",
       "Tenure                0\n",
       "Balance            3617\n",
       "NumOfProducts         0\n",
       "HasCrCard             0\n",
       "IsActiveMember        0\n",
       "EstimatedSalary       0\n",
       "Exited                0\n",
       "dtype: int64"
      ]
     },
     "execution_count": 7,
     "metadata": {},
     "output_type": "execute_result"
    }
   ],
   "source": [
    "df.isnull().sum()"
   ]
  },
  {
   "cell_type": "markdown",
   "metadata": {},
   "source": [
    "### Imputing missing values with mean"
   ]
  },
  {
   "cell_type": "code",
   "execution_count": 8,
   "metadata": {},
   "outputs": [],
   "source": [
    "df['Balance'] = df['Balance'].transform(lambda grp: grp.fillna(grp.mean()))"
   ]
  },
  {
   "cell_type": "code",
   "execution_count": 9,
   "metadata": {},
   "outputs": [
    {
     "data": {
      "text/plain": [
       "RowNumber          0\n",
       "CustomerId         0\n",
       "Surname            0\n",
       "CreditScore        0\n",
       "Geography          0\n",
       "Gender             0\n",
       "Age                0\n",
       "Tenure             0\n",
       "Balance            0\n",
       "NumOfProducts      0\n",
       "HasCrCard          0\n",
       "IsActiveMember     0\n",
       "EstimatedSalary    0\n",
       "Exited             0\n",
       "dtype: int64"
      ]
     },
     "execution_count": 9,
     "metadata": {},
     "output_type": "execute_result"
    }
   ],
   "source": [
    "df.isnull().sum()"
   ]
  },
  {
   "cell_type": "markdown",
   "metadata": {},
   "source": [
    "### Dropping unrequired columns from the dataset "
   ]
  },
  {
   "cell_type": "code",
   "execution_count": 10,
   "metadata": {},
   "outputs": [
    {
     "data": {
      "text/html": [
       "<div>\n",
       "<style scoped>\n",
       "    .dataframe tbody tr th:only-of-type {\n",
       "        vertical-align: middle;\n",
       "    }\n",
       "\n",
       "    .dataframe tbody tr th {\n",
       "        vertical-align: top;\n",
       "    }\n",
       "\n",
       "    .dataframe thead th {\n",
       "        text-align: right;\n",
       "    }\n",
       "</style>\n",
       "<table border=\"1\" class=\"dataframe\">\n",
       "  <thead>\n",
       "    <tr style=\"text-align: right;\">\n",
       "      <th></th>\n",
       "      <th>CreditScore</th>\n",
       "      <th>Geography</th>\n",
       "      <th>Gender</th>\n",
       "      <th>Age</th>\n",
       "      <th>Tenure</th>\n",
       "      <th>Balance</th>\n",
       "      <th>NumOfProducts</th>\n",
       "      <th>HasCrCard</th>\n",
       "      <th>IsActiveMember</th>\n",
       "      <th>EstimatedSalary</th>\n",
       "      <th>Exited</th>\n",
       "    </tr>\n",
       "  </thead>\n",
       "  <tbody>\n",
       "    <tr>\n",
       "      <th>0</th>\n",
       "      <td>619</td>\n",
       "      <td>France</td>\n",
       "      <td>Female</td>\n",
       "      <td>42</td>\n",
       "      <td>2</td>\n",
       "      <td>119827.493793</td>\n",
       "      <td>1</td>\n",
       "      <td>1</td>\n",
       "      <td>1</td>\n",
       "      <td>101348.88</td>\n",
       "      <td>1</td>\n",
       "    </tr>\n",
       "    <tr>\n",
       "      <th>1</th>\n",
       "      <td>608</td>\n",
       "      <td>Spain</td>\n",
       "      <td>Female</td>\n",
       "      <td>41</td>\n",
       "      <td>1</td>\n",
       "      <td>83807.860000</td>\n",
       "      <td>1</td>\n",
       "      <td>0</td>\n",
       "      <td>1</td>\n",
       "      <td>112542.58</td>\n",
       "      <td>0</td>\n",
       "    </tr>\n",
       "    <tr>\n",
       "      <th>2</th>\n",
       "      <td>502</td>\n",
       "      <td>France</td>\n",
       "      <td>Female</td>\n",
       "      <td>42</td>\n",
       "      <td>8</td>\n",
       "      <td>159660.800000</td>\n",
       "      <td>3</td>\n",
       "      <td>1</td>\n",
       "      <td>0</td>\n",
       "      <td>113931.57</td>\n",
       "      <td>1</td>\n",
       "    </tr>\n",
       "    <tr>\n",
       "      <th>3</th>\n",
       "      <td>699</td>\n",
       "      <td>France</td>\n",
       "      <td>Female</td>\n",
       "      <td>39</td>\n",
       "      <td>1</td>\n",
       "      <td>119827.493793</td>\n",
       "      <td>2</td>\n",
       "      <td>0</td>\n",
       "      <td>0</td>\n",
       "      <td>93826.63</td>\n",
       "      <td>0</td>\n",
       "    </tr>\n",
       "    <tr>\n",
       "      <th>4</th>\n",
       "      <td>850</td>\n",
       "      <td>Spain</td>\n",
       "      <td>Female</td>\n",
       "      <td>43</td>\n",
       "      <td>2</td>\n",
       "      <td>125510.820000</td>\n",
       "      <td>1</td>\n",
       "      <td>1</td>\n",
       "      <td>1</td>\n",
       "      <td>79084.10</td>\n",
       "      <td>0</td>\n",
       "    </tr>\n",
       "  </tbody>\n",
       "</table>\n",
       "</div>"
      ],
      "text/plain": [
       "   CreditScore Geography  Gender  Age  Tenure        Balance  NumOfProducts  \\\n",
       "0          619    France  Female   42       2  119827.493793              1   \n",
       "1          608     Spain  Female   41       1   83807.860000              1   \n",
       "2          502    France  Female   42       8  159660.800000              3   \n",
       "3          699    France  Female   39       1  119827.493793              2   \n",
       "4          850     Spain  Female   43       2  125510.820000              1   \n",
       "\n",
       "   HasCrCard  IsActiveMember  EstimatedSalary  Exited  \n",
       "0          1               1        101348.88       1  \n",
       "1          0               1        112542.58       0  \n",
       "2          1               0        113931.57       1  \n",
       "3          0               0         93826.63       0  \n",
       "4          1               1         79084.10       0  "
      ]
     },
     "execution_count": 10,
     "metadata": {},
     "output_type": "execute_result"
    }
   ],
   "source": [
    "df.drop(['RowNumber', 'CustomerId', 'Surname'],axis=1,inplace=True)\n",
    "df.head()"
   ]
  },
  {
   "cell_type": "markdown",
   "metadata": {},
   "source": [
    "### Analyzing the data using Visualization "
   ]
  },
  {
   "cell_type": "code",
   "execution_count": 11,
   "metadata": {},
   "outputs": [
    {
     "data": {
      "image/png": "[encoded data removed]",
      "text/plain": [
       "<Figure size 2160x2160 with 9 Axes>"
      ]
     },
     "metadata": {
      "needs_background": "light"
     },
     "output_type": "display_data"
    }
   ],
   "source": [
    "df.hist(sharex=False, sharey=False, figsize=(30, 30), xlabelsize=10, ylabelsize=10)\n",
    "plt.show()"
   ]
  },
  {
   "cell_type": "code",
   "execution_count": 12,
   "metadata": {},
   "outputs": [
    {
     "data": {
      "image/png": "[encoded data removed]",
      "text/plain": [
       "<Figure size 2160x2160 with 2 Axes>"
      ]
     },
     "metadata": {
      "needs_background": "light"
     },
     "output_type": "display_data"
    }
   ],
   "source": [
    "fig = plt.subplots(figsize = (30,30))\n",
    "sns.set(font_scale=2.0)\n",
    "sns.heatmap(df.corr(),square = True,cbar=True,annot=True,annot_kws={'size': 10})\n",
    "plt.show()"
   ]
  },
  {
   "cell_type": "code",
   "execution_count": 13,
   "metadata": {},
   "outputs": [
    {
     "data": {
      "text/plain": [
       "<seaborn.axisgrid.PairGrid at 0x1a24890d68>"
      ]
     },
     "execution_count": 13,
     "metadata": {},
     "output_type": "execute_result"
    },
    {
     "data": {
      "image/png": "[encoded data removed]",
      "text/plain": [
       "<Figure size 991.45x900 with 30 Axes>"
      ]
     },
     "metadata": {},
     "output_type": "display_data"
    }
   ],
   "source": [
    "sns.pairplot(data = df , hue = 'Exited',vars = ['CreditScore','Age','Tenure','Balance','EstimatedSalary'])"
   ]
  },
  {
   "cell_type": "markdown",
   "metadata": {},
   "source": [
    "### One hot Encoding\n",
    "#### Encoding the features 'Geography' and 'Gender' as they are Categorical. "
   ]
  },
  {
   "cell_type": "code",
   "execution_count": 14,
   "metadata": {},
   "outputs": [
    {
     "name": "stdout",
     "output_type": "stream",
     "text": [
      "      France  Germany  Spain  Female  Male\n",
      "0        1.0      0.0    0.0     1.0   0.0\n",
      "1        0.0      0.0    1.0     1.0   0.0\n",
      "2        1.0      0.0    0.0     1.0   0.0\n",
      "3        1.0      0.0    0.0     1.0   0.0\n",
      "4        0.0      0.0    1.0     1.0   0.0\n",
      "5        0.0      0.0    1.0     0.0   1.0\n",
      "6        1.0      0.0    0.0     0.0   1.0\n",
      "7        0.0      1.0    0.0     1.0   0.0\n",
      "8        1.0      0.0    0.0     0.0   1.0\n",
      "9        1.0      0.0    0.0     0.0   1.0\n",
      "10       1.0      0.0    0.0     0.0   1.0\n",
      "11       0.0      0.0    1.0     0.0   1.0\n",
      "12       1.0      0.0    0.0     1.0   0.0\n",
      "13       1.0      0.0    0.0     1.0   0.0\n",
      "14       0.0      0.0    1.0     1.0   0.0\n",
      "15       0.0      1.0    0.0     0.0   1.0\n",
      "16       0.0      1.0    0.0     0.0   1.0\n",
      "17       0.0      0.0    1.0     1.0   0.0\n",
      "18       0.0      0.0    1.0     0.0   1.0\n",
      "19       1.0      0.0    0.0     1.0   0.0\n",
      "20       1.0      0.0    0.0     0.0   1.0\n",
      "21       0.0      0.0    1.0     1.0   0.0\n",
      "22       0.0      0.0    1.0     1.0   0.0\n",
      "23       1.0      0.0    0.0     0.0   1.0\n",
      "24       1.0      0.0    0.0     1.0   0.0\n",
      "25       1.0      0.0    0.0     0.0   1.0\n",
      "26       0.0      1.0    0.0     0.0   1.0\n",
      "27       1.0      0.0    0.0     0.0   1.0\n",
      "28       0.0      1.0    0.0     1.0   0.0\n",
      "29       1.0      0.0    0.0     0.0   1.0\n",
      "...      ...      ...    ...     ...   ...\n",
      "9970     1.0      0.0    0.0     0.0   1.0\n",
      "9971     1.0      0.0    0.0     1.0   0.0\n",
      "9972     1.0      0.0    0.0     0.0   1.0\n",
      "9973     1.0      0.0    0.0     0.0   1.0\n",
      "9974     1.0      0.0    0.0     0.0   1.0\n",
      "9975     0.0      1.0    0.0     0.0   1.0\n",
      "9976     1.0      0.0    0.0     1.0   0.0\n",
      "9977     1.0      0.0    0.0     1.0   0.0\n",
      "9978     1.0      0.0    0.0     0.0   1.0\n",
      "9979     1.0      0.0    0.0     1.0   0.0\n",
      "9980     0.0      0.0    1.0     0.0   1.0\n",
      "9981     0.0      1.0    0.0     0.0   1.0\n",
      "9982     0.0      1.0    0.0     1.0   0.0\n",
      "9983     1.0      0.0    0.0     0.0   1.0\n",
      "9984     0.0      1.0    0.0     0.0   1.0\n",
      "9985     1.0      0.0    0.0     0.0   1.0\n",
      "9986     0.0      1.0    0.0     0.0   1.0\n",
      "9987     0.0      0.0    1.0     0.0   1.0\n",
      "9988     1.0      0.0    0.0     0.0   1.0\n",
      "9989     0.0      0.0    1.0     0.0   1.0\n",
      "9990     0.0      1.0    0.0     0.0   1.0\n",
      "9991     1.0      0.0    0.0     1.0   0.0\n",
      "9992     0.0      0.0    1.0     0.0   1.0\n",
      "9993     1.0      0.0    0.0     0.0   1.0\n",
      "9994     1.0      0.0    0.0     1.0   0.0\n",
      "9995     1.0      0.0    0.0     0.0   1.0\n",
      "9996     1.0      0.0    0.0     0.0   1.0\n",
      "9997     1.0      0.0    0.0     1.0   0.0\n",
      "9998     0.0      1.0    0.0     0.0   1.0\n",
      "9999     1.0      0.0    0.0     1.0   0.0\n",
      "\n",
      "[10000 rows x 5 columns]\n"
     ]
    }
   ],
   "source": [
    "from  sklearn.preprocessing import OneHotEncoder\n",
    "enc = OneHotEncoder(categories='auto')\n",
    "feature_arr = enc.fit_transform(df[['Geography','Gender']]).toarray()\n",
    "feature_labels = enc.categories_\n",
    "\n",
    "feature_labels = np.array(feature_labels).ravel()\n",
    "feature_labels =  np.concatenate((feature_labels), axis=None)\n",
    "features = pd.DataFrame(feature_arr, columns=feature_labels)\n",
    "print(features)"
   ]
  },
  {
   "cell_type": "code",
   "execution_count": 15,
   "metadata": {},
   "outputs": [
    {
     "data": {
      "text/html": [
       "<div>\n",
       "<style scoped>\n",
       "    .dataframe tbody tr th:only-of-type {\n",
       "        vertical-align: middle;\n",
       "    }\n",
       "\n",
       "    .dataframe tbody tr th {\n",
       "        vertical-align: top;\n",
       "    }\n",
       "\n",
       "    .dataframe thead th {\n",
       "        text-align: right;\n",
       "    }\n",
       "</style>\n",
       "<table border=\"1\" class=\"dataframe\">\n",
       "  <thead>\n",
       "    <tr style=\"text-align: right;\">\n",
       "      <th></th>\n",
       "      <th>France</th>\n",
       "      <th>Germany</th>\n",
       "      <th>Spain</th>\n",
       "      <th>Female</th>\n",
       "      <th>Male</th>\n",
       "      <th>CreditScore</th>\n",
       "      <th>Geography</th>\n",
       "      <th>Gender</th>\n",
       "      <th>Age</th>\n",
       "      <th>Tenure</th>\n",
       "      <th>Balance</th>\n",
       "      <th>NumOfProducts</th>\n",
       "      <th>HasCrCard</th>\n",
       "      <th>IsActiveMember</th>\n",
       "      <th>EstimatedSalary</th>\n",
       "      <th>Exited</th>\n",
       "    </tr>\n",
       "  </thead>\n",
       "  <tbody>\n",
       "    <tr>\n",
       "      <th>0</th>\n",
       "      <td>1.0</td>\n",
       "      <td>0.0</td>\n",
       "      <td>0.0</td>\n",
       "      <td>1.0</td>\n",
       "      <td>0.0</td>\n",
       "      <td>619</td>\n",
       "      <td>France</td>\n",
       "      <td>Female</td>\n",
       "      <td>42</td>\n",
       "      <td>2</td>\n",
       "      <td>119827.493793</td>\n",
       "      <td>1</td>\n",
       "      <td>1</td>\n",
       "      <td>1</td>\n",
       "      <td>101348.88</td>\n",
       "      <td>1</td>\n",
       "    </tr>\n",
       "    <tr>\n",
       "      <th>1</th>\n",
       "      <td>0.0</td>\n",
       "      <td>0.0</td>\n",
       "      <td>1.0</td>\n",
       "      <td>1.0</td>\n",
       "      <td>0.0</td>\n",
       "      <td>608</td>\n",
       "      <td>Spain</td>\n",
       "      <td>Female</td>\n",
       "      <td>41</td>\n",
       "      <td>1</td>\n",
       "      <td>83807.860000</td>\n",
       "      <td>1</td>\n",
       "      <td>0</td>\n",
       "      <td>1</td>\n",
       "      <td>112542.58</td>\n",
       "      <td>0</td>\n",
       "    </tr>\n",
       "    <tr>\n",
       "      <th>2</th>\n",
       "      <td>1.0</td>\n",
       "      <td>0.0</td>\n",
       "      <td>0.0</td>\n",
       "      <td>1.0</td>\n",
       "      <td>0.0</td>\n",
       "      <td>502</td>\n",
       "      <td>France</td>\n",
       "      <td>Female</td>\n",
       "      <td>42</td>\n",
       "      <td>8</td>\n",
       "      <td>159660.800000</td>\n",
       "      <td>3</td>\n",
       "      <td>1</td>\n",
       "      <td>0</td>\n",
       "      <td>113931.57</td>\n",
       "      <td>1</td>\n",
       "    </tr>\n",
       "    <tr>\n",
       "      <th>3</th>\n",
       "      <td>1.0</td>\n",
       "      <td>0.0</td>\n",
       "      <td>0.0</td>\n",
       "      <td>1.0</td>\n",
       "      <td>0.0</td>\n",
       "      <td>699</td>\n",
       "      <td>France</td>\n",
       "      <td>Female</td>\n",
       "      <td>39</td>\n",
       "      <td>1</td>\n",
       "      <td>119827.493793</td>\n",
       "      <td>2</td>\n",
       "      <td>0</td>\n",
       "      <td>0</td>\n",
       "      <td>93826.63</td>\n",
       "      <td>0</td>\n",
       "    </tr>\n",
       "    <tr>\n",
       "      <th>4</th>\n",
       "      <td>0.0</td>\n",
       "      <td>0.0</td>\n",
       "      <td>1.0</td>\n",
       "      <td>1.0</td>\n",
       "      <td>0.0</td>\n",
       "      <td>850</td>\n",
       "      <td>Spain</td>\n",
       "      <td>Female</td>\n",
       "      <td>43</td>\n",
       "      <td>2</td>\n",
       "      <td>125510.820000</td>\n",
       "      <td>1</td>\n",
       "      <td>1</td>\n",
       "      <td>1</td>\n",
       "      <td>79084.10</td>\n",
       "      <td>0</td>\n",
       "    </tr>\n",
       "  </tbody>\n",
       "</table>\n",
       "</div>"
      ],
      "text/plain": [
       "   France  Germany  Spain  Female  Male  CreditScore Geography  Gender  Age  \\\n",
       "0     1.0      0.0    0.0     1.0   0.0          619    France  Female   42   \n",
       "1     0.0      0.0    1.0     1.0   0.0          608     Spain  Female   41   \n",
       "2     1.0      0.0    0.0     1.0   0.0          502    France  Female   42   \n",
       "3     1.0      0.0    0.0     1.0   0.0          699    France  Female   39   \n",
       "4     0.0      0.0    1.0     1.0   0.0          850     Spain  Female   43   \n",
       "\n",
       "   Tenure        Balance  NumOfProducts  HasCrCard  IsActiveMember  \\\n",
       "0       2  119827.493793              1          1               1   \n",
       "1       1   83807.860000              1          0               1   \n",
       "2       8  159660.800000              3          1               0   \n",
       "3       1  119827.493793              2          0               0   \n",
       "4       2  125510.820000              1          1               1   \n",
       "\n",
       "   EstimatedSalary  Exited  \n",
       "0        101348.88       1  \n",
       "1        112542.58       0  \n",
       "2        113931.57       1  \n",
       "3         93826.63       0  \n",
       "4         79084.10       0  "
      ]
     },
     "execution_count": 15,
     "metadata": {},
     "output_type": "execute_result"
    }
   ],
   "source": [
    "df = pd.concat([features,df], axis=1, sort=False)\n",
    "df.head()"
   ]
  },
  {
   "cell_type": "code",
   "execution_count": 16,
   "metadata": {},
   "outputs": [
    {
     "data": {
      "text/html": [
       "<div>\n",
       "<style scoped>\n",
       "    .dataframe tbody tr th:only-of-type {\n",
       "        vertical-align: middle;\n",
       "    }\n",
       "\n",
       "    .dataframe tbody tr th {\n",
       "        vertical-align: top;\n",
       "    }\n",
       "\n",
       "    .dataframe thead th {\n",
       "        text-align: right;\n",
       "    }\n",
       "</style>\n",
       "<table border=\"1\" class=\"dataframe\">\n",
       "  <thead>\n",
       "    <tr style=\"text-align: right;\">\n",
       "      <th></th>\n",
       "      <th>France</th>\n",
       "      <th>Germany</th>\n",
       "      <th>Spain</th>\n",
       "      <th>Female</th>\n",
       "      <th>Male</th>\n",
       "      <th>CreditScore</th>\n",
       "      <th>Age</th>\n",
       "      <th>Tenure</th>\n",
       "      <th>Balance</th>\n",
       "      <th>NumOfProducts</th>\n",
       "      <th>HasCrCard</th>\n",
       "      <th>IsActiveMember</th>\n",
       "      <th>EstimatedSalary</th>\n",
       "      <th>Exited</th>\n",
       "    </tr>\n",
       "  </thead>\n",
       "  <tbody>\n",
       "    <tr>\n",
       "      <th>0</th>\n",
       "      <td>1.0</td>\n",
       "      <td>0.0</td>\n",
       "      <td>0.0</td>\n",
       "      <td>1.0</td>\n",
       "      <td>0.0</td>\n",
       "      <td>619</td>\n",
       "      <td>42</td>\n",
       "      <td>2</td>\n",
       "      <td>119827.493793</td>\n",
       "      <td>1</td>\n",
       "      <td>1</td>\n",
       "      <td>1</td>\n",
       "      <td>101348.88</td>\n",
       "      <td>1</td>\n",
       "    </tr>\n",
       "    <tr>\n",
       "      <th>1</th>\n",
       "      <td>0.0</td>\n",
       "      <td>0.0</td>\n",
       "      <td>1.0</td>\n",
       "      <td>1.0</td>\n",
       "      <td>0.0</td>\n",
       "      <td>608</td>\n",
       "      <td>41</td>\n",
       "      <td>1</td>\n",
       "      <td>83807.860000</td>\n",
       "      <td>1</td>\n",
       "      <td>0</td>\n",
       "      <td>1</td>\n",
       "      <td>112542.58</td>\n",
       "      <td>0</td>\n",
       "    </tr>\n",
       "    <tr>\n",
       "      <th>2</th>\n",
       "      <td>1.0</td>\n",
       "      <td>0.0</td>\n",
       "      <td>0.0</td>\n",
       "      <td>1.0</td>\n",
       "      <td>0.0</td>\n",
       "      <td>502</td>\n",
       "      <td>42</td>\n",
       "      <td>8</td>\n",
       "      <td>159660.800000</td>\n",
       "      <td>3</td>\n",
       "      <td>1</td>\n",
       "      <td>0</td>\n",
       "      <td>113931.57</td>\n",
       "      <td>1</td>\n",
       "    </tr>\n",
       "    <tr>\n",
       "      <th>3</th>\n",
       "      <td>1.0</td>\n",
       "      <td>0.0</td>\n",
       "      <td>0.0</td>\n",
       "      <td>1.0</td>\n",
       "      <td>0.0</td>\n",
       "      <td>699</td>\n",
       "      <td>39</td>\n",
       "      <td>1</td>\n",
       "      <td>119827.493793</td>\n",
       "      <td>2</td>\n",
       "      <td>0</td>\n",
       "      <td>0</td>\n",
       "      <td>93826.63</td>\n",
       "      <td>0</td>\n",
       "    </tr>\n",
       "    <tr>\n",
       "      <th>4</th>\n",
       "      <td>0.0</td>\n",
       "      <td>0.0</td>\n",
       "      <td>1.0</td>\n",
       "      <td>1.0</td>\n",
       "      <td>0.0</td>\n",
       "      <td>850</td>\n",
       "      <td>43</td>\n",
       "      <td>2</td>\n",
       "      <td>125510.820000</td>\n",
       "      <td>1</td>\n",
       "      <td>1</td>\n",
       "      <td>1</td>\n",
       "      <td>79084.10</td>\n",
       "      <td>0</td>\n",
       "    </tr>\n",
       "  </tbody>\n",
       "</table>\n",
       "</div>"
      ],
      "text/plain": [
       "   France  Germany  Spain  Female  Male  CreditScore  Age  Tenure  \\\n",
       "0     1.0      0.0    0.0     1.0   0.0          619   42       2   \n",
       "1     0.0      0.0    1.0     1.0   0.0          608   41       1   \n",
       "2     1.0      0.0    0.0     1.0   0.0          502   42       8   \n",
       "3     1.0      0.0    0.0     1.0   0.0          699   39       1   \n",
       "4     0.0      0.0    1.0     1.0   0.0          850   43       2   \n",
       "\n",
       "         Balance  NumOfProducts  HasCrCard  IsActiveMember  EstimatedSalary  \\\n",
       "0  119827.493793              1          1               1        101348.88   \n",
       "1   83807.860000              1          0               1        112542.58   \n",
       "2  159660.800000              3          1               0        113931.57   \n",
       "3  119827.493793              2          0               0         93826.63   \n",
       "4  125510.820000              1          1               1         79084.10   \n",
       "\n",
       "   Exited  \n",
       "0       1  \n",
       "1       0  \n",
       "2       1  \n",
       "3       0  \n",
       "4       0  "
      ]
     },
     "execution_count": 16,
     "metadata": {},
     "output_type": "execute_result"
    }
   ],
   "source": [
    "df = df.drop(columns=['Geography', 'Gender'])\n",
    "df.head()"
   ]
  },
  {
   "cell_type": "code",
   "execution_count": 17,
   "metadata": {},
   "outputs": [],
   "source": [
    "df1 = df\n",
    "X = df.drop(['Exited'],axis = 1)\n",
    "y = df['Exited']"
   ]
  },
  {
   "cell_type": "markdown",
   "metadata": {},
   "source": [
    "### Feature Scaling "
   ]
  },
  {
   "cell_type": "code",
   "execution_count": 18,
   "metadata": {},
   "outputs": [
    {
     "name": "stdout",
     "output_type": "stream",
     "text": [
      "reject null hypothesis\n",
      "reject null hypothesis\n",
      "reject null hypothesis\n",
      "reject null hypothesis\n",
      "reject null hypothesis\n",
      "reject null hypothesis\n",
      "reject null hypothesis\n",
      "reject null hypothesis\n",
      "reject null hypothesis\n",
      "reject null hypothesis\n",
      "reject null hypothesis\n",
      "reject null hypothesis\n",
      "reject null hypothesis\n"
     ]
    }
   ],
   "source": [
    "from scipy.stats import ttest_1samp\n",
    "from statsmodels.stats import weightstats as stests\n",
    "\n",
    "ztest ,pval = stests.ztest(df, x2=None, value=156)\n",
    "for i in range(len(X.columns)) :\n",
    "    if pval[i]<0.05:\n",
    "        print(\"reject null hypothesis\")\n",
    "    else:\n",
    "        print(\"accept null hypothesis\")"
   ]
  },
  {
   "cell_type": "markdown",
   "metadata": {},
   "source": [
    "#### Null hypothesis is rejected, which means there is relationship between the variables and Variables are not normally distributed.\n",
    "#### Therefore, using the MinMax scaler to place the numbers in each numerical field on a scale from 0 to 1 so that our models could produce more accurate results."
   ]
  },
  {
   "cell_type": "code",
   "execution_count": 19,
   "metadata": {},
   "outputs": [],
   "source": [
    "from sklearn.preprocessing import MinMaxScaler\n",
    "from sklearn.model_selection import train_test_split\n",
    "#Splitting into train and test datasets\n",
    "X_train_org, X_test_org, y_train, y_test = train_test_split(X,y, test_size=0.2, random_state = 2)\n",
    "scale = MinMaxScaler()\n",
    "X_train = scale.fit_transform(X_train_org)\n",
    "X_test = scale.transform(X_test_org)"
   ]
  },
  {
   "cell_type": "code",
   "execution_count": 20,
   "metadata": {},
   "outputs": [
    {
     "data": {
      "text/html": [
       "<div>\n",
       "<style scoped>\n",
       "    .dataframe tbody tr th:only-of-type {\n",
       "        vertical-align: middle;\n",
       "    }\n",
       "\n",
       "    .dataframe tbody tr th {\n",
       "        vertical-align: top;\n",
       "    }\n",
       "\n",
       "    .dataframe thead th {\n",
       "        text-align: right;\n",
       "    }\n",
       "</style>\n",
       "<table border=\"1\" class=\"dataframe\">\n",
       "  <thead>\n",
       "    <tr style=\"text-align: right;\">\n",
       "      <th></th>\n",
       "      <th>France</th>\n",
       "      <th>Germany</th>\n",
       "      <th>Spain</th>\n",
       "      <th>Female</th>\n",
       "      <th>Male</th>\n",
       "      <th>CreditScore</th>\n",
       "      <th>Age</th>\n",
       "      <th>Tenure</th>\n",
       "      <th>Balance</th>\n",
       "      <th>NumOfProducts</th>\n",
       "      <th>HasCrCard</th>\n",
       "      <th>IsActiveMember</th>\n",
       "      <th>EstimatedSalary</th>\n",
       "    </tr>\n",
       "  </thead>\n",
       "  <tbody>\n",
       "    <tr>\n",
       "      <th>9995</th>\n",
       "      <td>1.0</td>\n",
       "      <td>0.0</td>\n",
       "      <td>0.0</td>\n",
       "      <td>0.0</td>\n",
       "      <td>1.0</td>\n",
       "      <td>771</td>\n",
       "      <td>39</td>\n",
       "      <td>5</td>\n",
       "      <td>119827.493793</td>\n",
       "      <td>2</td>\n",
       "      <td>1</td>\n",
       "      <td>0</td>\n",
       "      <td>96270.64</td>\n",
       "    </tr>\n",
       "    <tr>\n",
       "      <th>9996</th>\n",
       "      <td>1.0</td>\n",
       "      <td>0.0</td>\n",
       "      <td>0.0</td>\n",
       "      <td>0.0</td>\n",
       "      <td>1.0</td>\n",
       "      <td>516</td>\n",
       "      <td>35</td>\n",
       "      <td>10</td>\n",
       "      <td>57369.610000</td>\n",
       "      <td>1</td>\n",
       "      <td>1</td>\n",
       "      <td>1</td>\n",
       "      <td>101699.77</td>\n",
       "    </tr>\n",
       "    <tr>\n",
       "      <th>9997</th>\n",
       "      <td>1.0</td>\n",
       "      <td>0.0</td>\n",
       "      <td>0.0</td>\n",
       "      <td>1.0</td>\n",
       "      <td>0.0</td>\n",
       "      <td>709</td>\n",
       "      <td>36</td>\n",
       "      <td>7</td>\n",
       "      <td>119827.493793</td>\n",
       "      <td>1</td>\n",
       "      <td>0</td>\n",
       "      <td>1</td>\n",
       "      <td>42085.58</td>\n",
       "    </tr>\n",
       "    <tr>\n",
       "      <th>9998</th>\n",
       "      <td>0.0</td>\n",
       "      <td>1.0</td>\n",
       "      <td>0.0</td>\n",
       "      <td>0.0</td>\n",
       "      <td>1.0</td>\n",
       "      <td>772</td>\n",
       "      <td>42</td>\n",
       "      <td>3</td>\n",
       "      <td>75075.310000</td>\n",
       "      <td>2</td>\n",
       "      <td>1</td>\n",
       "      <td>0</td>\n",
       "      <td>92888.52</td>\n",
       "    </tr>\n",
       "    <tr>\n",
       "      <th>9999</th>\n",
       "      <td>1.0</td>\n",
       "      <td>0.0</td>\n",
       "      <td>0.0</td>\n",
       "      <td>1.0</td>\n",
       "      <td>0.0</td>\n",
       "      <td>792</td>\n",
       "      <td>28</td>\n",
       "      <td>4</td>\n",
       "      <td>130142.790000</td>\n",
       "      <td>1</td>\n",
       "      <td>1</td>\n",
       "      <td>0</td>\n",
       "      <td>38190.78</td>\n",
       "    </tr>\n",
       "  </tbody>\n",
       "</table>\n",
       "</div>"
      ],
      "text/plain": [
       "      France  Germany  Spain  Female  Male  CreditScore  Age  Tenure  \\\n",
       "9995     1.0      0.0    0.0     0.0   1.0          771   39       5   \n",
       "9996     1.0      0.0    0.0     0.0   1.0          516   35      10   \n",
       "9997     1.0      0.0    0.0     1.0   0.0          709   36       7   \n",
       "9998     0.0      1.0    0.0     0.0   1.0          772   42       3   \n",
       "9999     1.0      0.0    0.0     1.0   0.0          792   28       4   \n",
       "\n",
       "            Balance  NumOfProducts  HasCrCard  IsActiveMember  EstimatedSalary  \n",
       "9995  119827.493793              2          1               0         96270.64  \n",
       "9996   57369.610000              1          1               1        101699.77  \n",
       "9997  119827.493793              1          0               1         42085.58  \n",
       "9998   75075.310000              2          1               0         92888.52  \n",
       "9999  130142.790000              1          1               0         38190.78  "
      ]
     },
     "execution_count": 20,
     "metadata": {},
     "output_type": "execute_result"
    }
   ],
   "source": [
    "X.tail()"
   ]
  },
  {
   "cell_type": "code",
   "execution_count": 21,
   "metadata": {},
   "outputs": [
    {
     "data": {
      "text/plain": [
       "0    1\n",
       "1    0\n",
       "2    1\n",
       "3    0\n",
       "4    0\n",
       "Name: Exited, dtype: int64"
      ]
     },
     "execution_count": 21,
     "metadata": {},
     "output_type": "execute_result"
    }
   ],
   "source": [
    "y.head()"
   ]
  },
  {
   "cell_type": "markdown",
   "metadata": {},
   "source": [
    "## Applying Voting Classifiers"
   ]
  },
  {
   "cell_type": "code",
   "execution_count": null,
   "metadata": {},
   "outputs": [],
   "source": []
  },
  {
   "cell_type": "code",
   "execution_count": null,
   "metadata": {},
   "outputs": [],
   "source": []
  },
  {
   "cell_type": "code",
   "execution_count": 28,
   "metadata": {},
   "outputs": [
    {
     "data": {
      "text/plain": [
       "GridSearchCV(cv='warn', error_score='raise-deprecating',\n",
       "       estimator=LogisticRegression(C=1.0, class_weight=None, dual=False, fit_intercept=True,\n",
       "          intercept_scaling=1, max_iter=100, multi_class='warn',\n",
       "          n_jobs=None, penalty='l2', random_state=None, solver='warn',\n",
       "          tol=0.0001, verbose=0, warm_start=False),\n",
       "       fit_params=None, iid='warn', n_jobs=None,\n",
       "       param_grid={'penalty': ['l1', 'l2'], 'C': array([0.001  , 0.00107, ..., 0.93325, 1.     ])},\n",
       "       pre_dispatch='2*n_jobs', refit=True, return_train_score='warn',\n",
       "       scoring='roc_auc', verbose=0)"
      ]
     },
     "execution_count": 28,
     "metadata": {},
     "output_type": "execute_result"
    }
   ],
   "source": [
    "#Grid Search for Logistic Regression\n",
    "from sklearn.linear_model import LogisticRegression\n",
    "lr = LogisticRegression()\n",
    "C_grid = 0.001*10**(np.arange(0,1.01,0.01)*3)\n",
    "lr_param_grid  = {\n",
    "    'penalty': ['l1', 'l2'], \n",
    "    'C': C_grid\n",
    "}\n",
    "\n",
    "grid_lr = GridSearchCV(lr, lr_param_grid, scoring='roc_auc')\n",
    "grid_lr.fit(X_train, y_train)"
   ]
  },
  {
   "cell_type": "code",
   "execution_count": 24,
   "metadata": {},
   "outputs": [
    {
     "name": "stdout",
     "output_type": "stream",
     "text": [
      "Best parameters: {'C': 0.9332543007969906, 'penalty': 'l1'}\n",
      "Best cross-validation score: 0.765100\n"
     ]
    }
   ],
   "source": [
    "print(\"Best parameters: {}\".format(grid_lr.best_params_))\n",
    "print(\"Best cross-validation score: {:.6f}\".format(grid_lr.best_score_))"
   ]
  },
  {
   "cell_type": "code",
   "execution_count": 37,
   "metadata": {},
   "outputs": [
    {
     "data": {
      "text/plain": [
       "GridSearchCV(cv=10, error_score='raise-deprecating',\n",
       "       estimator=DecisionTreeClassifier(class_weight=None, criterion='gini', max_depth=None,\n",
       "            max_features=None, max_leaf_nodes=None,\n",
       "            min_impurity_decrease=0.0, min_impurity_split=None,\n",
       "            min_samples_leaf=1, min_samples_split=2,\n",
       "            min_weight_fraction_leaf=0.0, presort=False, random_state=None,\n",
       "            splitter='best'),\n",
       "       fit_params=None, iid='warn', n_jobs=None,\n",
       "       param_grid={'max_depth': array([1, 2, 3, 4, 5, 6, 7, 8, 9])},\n",
       "       pre_dispatch='2*n_jobs', refit=True, return_train_score=True,\n",
       "       scoring=None, verbose=0)"
      ]
     },
     "execution_count": 37,
     "metadata": {},
     "output_type": "execute_result"
    }
   ],
   "source": [
    "# Grid Search for Decission Tree\n",
    "from sklearn.tree import DecisionTreeClassifier\n",
    "from sklearn.model_selection import GridSearchCV\n",
    "#param_grid_svm = {'C': [0.001, 0.01, 0.1, 1, 10, 100], 'penalty':['l1','l2']}\n",
    "#grid_search = GridSearchCV(LogisticRegression(solver = 'liblinear'), param_grid_svm, cv=10, return_train_score=True)\n",
    "#param_grid_svm = {'C': [0.001, 0.01, 0.1, 1, 10, 100], 'penalty':['l1','l2']}\n",
    "param_grid = {'max_depth': np.arange(1, 10)}\n",
    "grid_search.fit(X_train, y_train)\n",
    "grid_search = GridSearchCV(DecisionTreeClassifier(), param_grid, cv=10, return_train_score=True)\n",
    "grid_search.fit(X_train, y_train)"
   ]
  },
  {
   "cell_type": "code",
   "execution_count": 36,
   "metadata": {},
   "outputs": [
    {
     "name": "stdout",
     "output_type": "stream",
     "text": [
      "Best parameters: {'max_depth': 6}\n",
      "Best cross-validation score: 0.855375\n"
     ]
    }
   ],
   "source": [
    "print(\"Best parameters: {}\".format(grid_search.best_params_))\n",
    "print(\"Best cross-validation score: {:.6f}\".format(grid_search.best_score_))"
   ]
  },
  {
   "cell_type": "markdown",
   "metadata": {},
   "source": [
    "### Hard Voting Classifier"
   ]
  },
  {
   "cell_type": "code",
   "execution_count": 29,
   "metadata": {},
   "outputs": [
    {
     "name": "stdout",
     "output_type": "stream",
     "text": [
      "LogisticRegression 0.815\n",
      "DecisionTreeClassifier 0.796\n",
      "VotingClassifier 0.826\n"
     ]
    }
   ],
   "source": [
    "from sklearn.ensemble import VotingClassifier\n",
    "log_clf = LogisticRegression(solver = 'lbfgs')\n",
    "log_clf.fit(X_train, y_train)\n",
    "dt_clf = DecisionTreeClassifier()\n",
    "dt_clf.fit(X_train, y_train)\n",
    "\n",
    "voting_clf = VotingClassifier(estimators=[('lr', log_clf), ('dt_clf', dt_clf)], voting='hard')\n",
    "voting_clf.fit(X_train, y_train)\n",
    "\n",
    "from sklearn.metrics import accuracy_score\n",
    "for clf in (log_clf, dt_clf, voting_clf):\n",
    "    clf.fit(X_train, y_train)\n",
    "    y_pred = clf.predict(X_test)\n",
    "    print(clf.__class__.__name__, accuracy_score(y_test, y_pred).round(3))"
   ]
  },
  {
   "cell_type": "markdown",
   "metadata": {},
   "source": [
    "### Soft Voting Classifier "
   ]
  },
  {
   "cell_type": "code",
   "execution_count": 38,
   "metadata": {},
   "outputs": [
    {
     "name": "stdout",
     "output_type": "stream",
     "text": [
      "LogisticRegression 0.815\n",
      "DecisionTreeClassifier 0.798\n",
      "VotingClassifier 0.8\n"
     ]
    }
   ],
   "source": [
    "log_clf = LogisticRegression(solver = 'lbfgs')\n",
    "log_clf.fit(X_train, y_train)\n",
    "dt_clf = DecisionTreeClassifier()\n",
    "dt_clf.fit(X_train, y_train)\n",
    "\n",
    "voting_clf = VotingClassifier(estimators=[('lr', log_clf), ('dt_clf', dt_clf)], voting='soft')\n",
    "voting_clf.fit(X_train, y_train)\n",
    "\n",
    "from sklearn.metrics import accuracy_score\n",
    "for clf in (log_clf, dt_clf, voting_clf):\n",
    "    clf.fit(X_train, y_train)\n",
    "    y_pred = clf.predict(X_test)\n",
    "    print(clf.__class__.__name__, accuracy_score(y_test, y_pred).round(3))\n",
    "\n"
   ]
  },
  {
   "cell_type": "markdown",
   "metadata": {},
   "source": [
    "## Bagging"
   ]
  },
  {
   "cell_type": "markdown",
   "metadata": {},
   "source": [
    "### Bagging with Decision Tree "
   ]
  },
  {
   "cell_type": "code",
   "execution_count": 39,
   "metadata": {},
   "outputs": [
    {
     "name": "stdout",
     "output_type": "stream",
     "text": [
      "Best parameters: {'max_depth': 6}\n",
      "Best cross-validation score: 0.8558\n"
     ]
    }
   ],
   "source": [
    "from sklearn.tree import DecisionTreeClassifier\n",
    "from sklearn.model_selection import GridSearchCV\n",
    "param_grid = {'max_depth': np.arange(1, 10)}\n",
    "grid_search = GridSearchCV(DecisionTreeClassifier(random_state=0), param_grid, cv=10, return_train_score=True)\n",
    "grid_search.fit(X_train, y_train)\n",
    "print(\"Best parameters: {}\".format(grid_search.best_params_))\n",
    "print(\"Best cross-validation score: {:.4f}\".format(grid_search.best_score_))"
   ]
  },
  {
   "cell_type": "code",
   "execution_count": 40,
   "metadata": {},
   "outputs": [
    {
     "name": "stdout",
     "output_type": "stream",
     "text": [
      "Train Set score after Bagging on Decision Tree Classifier: 0.8651\n",
      "Test Set score after Bagging on Decision Tree Classifier: 0.8620\n"
     ]
    }
   ],
   "source": [
    "#Building model with the best paramaeters obtained from above step\n",
    "from sklearn.ensemble import BaggingClassifier\n",
    "dt_clf = DecisionTreeClassifier(max_depth = 6, random_state=0)\n",
    "bg_clf = BaggingClassifier(dt_clf, n_estimators=500, max_samples=400, bootstrap=True, n_jobs=-1, random_state=0)\n",
    "bg_clf.fit(X_train, y_train)\n",
    "y_pred = bg_clf.predict(X_test)\n",
    "print('Train Set score after Bagging on Decision Tree Classifier: {:.4f}'.format(bg_clf.score(X_train, y_train)))\n",
    "print('Test Set score after Bagging on Decision Tree Classifier: {:.4f}'.format(bg_clf.score(X_test, y_test)))"
   ]
  },
  {
   "cell_type": "code",
   "execution_count": 41,
   "metadata": {},
   "outputs": [
    {
     "name": "stdout",
     "output_type": "stream",
     "text": [
      "Confusion matrix for test: \n",
      " [[1547   70]\n",
      " [ 227  156]]\n"
     ]
    }
   ],
   "source": [
    "from sklearn.metrics import confusion_matrix\n",
    "confusion = confusion_matrix(y_test, grid_search.predict(X_test))\n",
    "print(\"Confusion matrix for test: \\n\", confusion)"
   ]
  },
  {
   "cell_type": "code",
   "execution_count": 42,
   "metadata": {},
   "outputs": [
    {
     "name": "stdout",
     "output_type": "stream",
     "text": [
      "Confusion matrix for train: \n",
      " [[6125  221]\n",
      " [ 843  811]]\n"
     ]
    }
   ],
   "source": [
    "confusion = confusion_matrix(y_train, grid_search.predict(X_train))\n",
    "print(\"Confusion matrix for train: \\n\", confusion)"
   ]
  },
  {
   "cell_type": "code",
   "execution_count": 43,
   "metadata": {},
   "outputs": [
    {
     "name": "stdout",
     "output_type": "stream",
     "text": [
      "Accuracy of the Classifier:  0.8515\n"
     ]
    }
   ],
   "source": [
    "from sklearn.metrics import accuracy_score\n",
    "accuracy = accuracy_score(y_test, grid_search.predict(X_test))\n",
    "print(\"Accuracy of the Classifier: \" ,accuracy)"
   ]
  },
  {
   "cell_type": "markdown",
   "metadata": {},
   "source": [
    "### Bagging with Random Forest "
   ]
  },
  {
   "cell_type": "code",
   "execution_count": 44,
   "metadata": {},
   "outputs": [
    {
     "name": "stdout",
     "output_type": "stream",
     "text": [
      "Best parameters: {'max_depth': 9, 'n_estimators': 500}\n",
      "Best cross-validation score: 0.8636\n"
     ]
    }
   ],
   "source": [
    "from sklearn.ensemble import RandomForestClassifier\n",
    "param_grid = {'n_estimators': [50,100,200,500],'max_depth': np.arange(1, 10)}\n",
    "grid_search = GridSearchCV(RandomForestClassifier(random_state=0), param_grid, cv=10, return_train_score=True)\n",
    "grid_search.fit(X_train, y_train)\n",
    "print(\"Best parameters: {}\".format(grid_search.best_params_))\n",
    "print(\"Best cross-validation score: {:.4f}\".format(grid_search.best_score_))"
   ]
  },
  {
   "cell_type": "code",
   "execution_count": 46,
   "metadata": {},
   "outputs": [
    {
     "name": "stdout",
     "output_type": "stream",
     "text": [
      "Train Set score after Bagging on Random Forest Classifier: 0.8874\n",
      "Test Set score after Bagging on Random Forest Classifier: 0.8605\n"
     ]
    }
   ],
   "source": [
    "#Building model with the best parameters obtained from above step:\n",
    "rf_clf = RandomForestClassifier(n_estimators=500, max_depth = 9, bootstrap=True, n_jobs=-1, random_state=0)\n",
    "rf_clf.fit(X_train, y_train)\n",
    "y_pred_rf = rf_clf.predict(X_test)\n",
    "print('Train Set score after Bagging on Random Forest Classifier: {:.4f}'.format(rf_clf.score(X_train, y_train)))\n",
    "print('Test Set score after Bagging on Random Forest Classifier: {:.4f}'.format(rf_clf.score(X_test, y_test)))"
   ]
  },
  {
   "cell_type": "code",
   "execution_count": 47,
   "metadata": {},
   "outputs": [
    {
     "name": "stdout",
     "output_type": "stream",
     "text": [
      "Confusion matrix for test: \n",
      " [[1575   42]\n",
      " [ 237  146]]\n"
     ]
    }
   ],
   "source": [
    "confusion = confusion_matrix(y_test, grid_search.predict(X_test))\n",
    "print(\"Confusion matrix for test: \\n\", confusion)"
   ]
  },
  {
   "cell_type": "code",
   "execution_count": 49,
   "metadata": {},
   "outputs": [
    {
     "name": "stdout",
     "output_type": "stream",
     "text": [
      "Confusion matrix for train: \n",
      " [[6267   79]\n",
      " [ 822  832]]\n"
     ]
    }
   ],
   "source": [
    "confusion = confusion_matrix(y_train, grid_search.predict(X_train))\n",
    "print(\"Confusion matrix for train: \\n\", confusion)"
   ]
  },
  {
   "cell_type": "code",
   "execution_count": 50,
   "metadata": {},
   "outputs": [
    {
     "name": "stdout",
     "output_type": "stream",
     "text": [
      "Accuracy of the Classifier:  0.8605\n"
     ]
    }
   ],
   "source": [
    "from sklearn.metrics import accuracy_score\n",
    "accuracy = accuracy_score(y_test, grid_search.predict(X_test))\n",
    "print(\"Accuracy of the Classifier: \" ,accuracy)"
   ]
  },
  {
   "cell_type": "markdown",
   "metadata": {},
   "source": [
    "## Pasting"
   ]
  },
  {
   "cell_type": "markdown",
   "metadata": {},
   "source": [
    "### Pasting with Decision Tree  "
   ]
  },
  {
   "cell_type": "code",
   "execution_count": 55,
   "metadata": {},
   "outputs": [
    {
     "name": "stdout",
     "output_type": "stream",
     "text": [
      "Train Set score after Bagging on Decision Tree Classifier: 0.8632\n",
      "Test Set score after Bagging on Decision Tree Classifier: 0.8610\n"
     ]
    }
   ],
   "source": [
    "from sklearn.ensemble import BaggingClassifier\n",
    "from sklearn.tree import DecisionTreeClassifier\n",
    "\n",
    "dt_clf = DecisionTreeClassifier(max_depth = 6, random_state=0)\n",
    "bag_clf = BaggingClassifier(dt_clf, n_estimators=500, max_samples=400, bootstrap=False, n_jobs=-1, random_state=0)\n",
    "\n",
    "bag_clf.fit(X_train, y_train)\n",
    "y_pred = bag_clf.predict(X_test)\n",
    "\n",
    "print('Train Set score after Bagging on Decision Tree Classifier: {:.4f}'.format(bag_clf.score(X_train, y_train)))\n",
    "print('Test Set score after Bagging on Decision Tree Classifier: {:.4f}'.format(bag_clf.score(X_test, y_test)))"
   ]
  },
  {
   "cell_type": "code",
   "execution_count": 57,
   "metadata": {},
   "outputs": [
    {
     "name": "stdout",
     "output_type": "stream",
     "text": [
      "Confusion matrix for test: \n",
      " [[1592   25]\n",
      " [ 253  130]]\n"
     ]
    }
   ],
   "source": [
    "from sklearn.metrics import confusion_matrix\n",
    "confusion = confusion_matrix(y_test, grid_search.predict(X_test))\n",
    "print(\"Confusion matrix for test: \\n\", confusion)"
   ]
  },
  {
   "cell_type": "code",
   "execution_count": 58,
   "metadata": {},
   "outputs": [
    {
     "name": "stdout",
     "output_type": "stream",
     "text": [
      "Confusion matrix for train: \n",
      " [[6201  145]\n",
      " [1002  652]]\n"
     ]
    }
   ],
   "source": [
    "confusion = confusion_matrix(y_train, grid_search.predict(X_train))\n",
    "print(\"Confusion matrix for train: \\n\", confusion)"
   ]
  },
  {
   "cell_type": "code",
   "execution_count": 59,
   "metadata": {},
   "outputs": [
    {
     "name": "stdout",
     "output_type": "stream",
     "text": [
      "Accuracy of the Classifier:  0.861\n"
     ]
    }
   ],
   "source": [
    "from sklearn.metrics import accuracy_score\n",
    "accuracy = accuracy_score(y_test, grid_search.predict(X_test))\n",
    "print(\"Accuracy of the Classifier: \" ,accuracy)"
   ]
  },
  {
   "cell_type": "markdown",
   "metadata": {},
   "source": [
    "### Pasting with Random Forest "
   ]
  },
  {
   "cell_type": "code",
   "execution_count": 65,
   "metadata": {},
   "outputs": [
    {
     "name": "stdout",
     "output_type": "stream",
     "text": [
      "Train Set score after Bagging on Decision Tree Classifier: 0.8510\n",
      "Test Set score after Bagging on Decision Tree Classifier: 0.8510\n"
     ]
    }
   ],
   "source": [
    "rf_clf = RandomForestClassifier(n_estimators=500, max_depth = 9, max_leaf_nodes=16, bootstrap=False, n_jobs=-1, random_state=0)\n",
    "rf_clf.fit(X_train, y_train)\n",
    "y_pred_rf = rf_clf.predict(X_test)\n",
    "print('Train Set score after Bagging on Decision Tree Classifier: {:.4f}'.format(rf_clf.score(X_train, y_train)))\n",
    "print('Test Set score after Bagging on Decision Tree Classifier: {:.4f}'.format(rf_clf.score(X_test, y_test)))"
   ]
  },
  {
   "cell_type": "code",
   "execution_count": 66,
   "metadata": {},
   "outputs": [
    {
     "name": "stdout",
     "output_type": "stream",
     "text": [
      "Confusion matrix for test: \n",
      " [[1592   25]\n",
      " [ 253  130]]\n"
     ]
    }
   ],
   "source": [
    "from sklearn.metrics import confusion_matrix\n",
    "confusion = confusion_matrix(y_test, grid_search.predict(X_test))\n",
    "print(\"Confusion matrix for test: \\n\", confusion)"
   ]
  },
  {
   "cell_type": "code",
   "execution_count": 146,
   "metadata": {},
   "outputs": [],
   "source": [
    "#confusion = confusion_matrix(y_train, grid_search.predict(X_train))\n",
    "#print(\"Confusion matrix for train: \\n\", confusion)"
   ]
  },
  {
   "cell_type": "code",
   "execution_count": 68,
   "metadata": {},
   "outputs": [
    {
     "name": "stdout",
     "output_type": "stream",
     "text": [
      "Accuracy of the Classifier:  0.861\n"
     ]
    }
   ],
   "source": [
    "from sklearn.metrics import accuracy_score\n",
    "accuracy = accuracy_score(y_test, grid_search.predict(X_test))\n",
    "print(\"Accuracy of the Classifier: \" ,accuracy)"
   ]
  },
  {
   "cell_type": "markdown",
   "metadata": {},
   "source": [
    "## AdaBoost Boosting"
   ]
  },
  {
   "cell_type": "markdown",
   "metadata": {},
   "source": [
    "### AdaBoost with Logistic regression"
   ]
  },
  {
   "cell_type": "code",
   "execution_count": 94,
   "metadata": {},
   "outputs": [
    {
     "name": "stdout",
     "output_type": "stream",
     "text": [
      "Train: 0.803625\n",
      "Test 0.8145003093769334\n",
      "parameters {'learning_rate': 1, 'n_estimators': 100}\n"
     ]
    }
   ],
   "source": [
    "from sklearn.model_selection import KFold\n",
    "from sklearn.ensemble import AdaBoostClassifier\n",
    "from sklearn.model_selection import cross_val_score\n",
    "from sklearn.model_selection import cross_val_predict\n",
    "from sklearn.linear_model import LogisticRegression\n",
    "kfold =KFold(n_splits=5, random_state=0)\n",
    "param_grid = {'n_estimators': [10, 50, 100],'learning_rate': [0.1, 0.5, 1]}\n",
    "grid_search = GridSearchCV(AdaBoostClassifier(log_clf, random_state = 0), param_grid, cv=kfold, return_train_score=True)\n",
    "grid_search.fit(X_train, y_train)\n",
    "test=cross_val_score(grid_search,X_test, y_test,cv=5).mean()\n",
    "print(\"Train:\",grid_search.best_score_)\n",
    "print(\"Test\",test)\n",
    "print(\"parameters\",grid_search.best_params_)\n",
    "\n",
    "\n"
   ]
  },
  {
   "cell_type": "code",
   "execution_count": 95,
   "metadata": {},
   "outputs": [
    {
     "name": "stdout",
     "output_type": "stream",
     "text": [
      "Accuracy of the Classifier:  0.8155\n"
     ]
    }
   ],
   "source": [
    "from sklearn.metrics import accuracy_score\n",
    "accuracy = accuracy_score(y_test, grid_search.predict(X_test))\n",
    "print(\"Accuracy of the Classifier: \", accuracy)"
   ]
  },
  {
   "cell_type": "code",
   "execution_count": null,
   "metadata": {},
   "outputs": [],
   "source": []
  },
  {
   "cell_type": "markdown",
   "metadata": {},
   "source": [
    "### AdaBoost with Decision Tree"
   ]
  },
  {
   "cell_type": "code",
   "execution_count": 86,
   "metadata": {},
   "outputs": [
    {
     "name": "stdout",
     "output_type": "stream",
     "text": [
      "Accuracy of the decision tree classifier  0.8085\n"
     ]
    }
   ],
   "source": [
    "dt_clf = DecisionTreeClassifier(max_depth = 1, random_state=0)\n",
    "dt_clf.fit(X_train, y_train)\n",
    "y_pred = dt_clf.predict(X_test)\n",
    "\n",
    "print(\"Accuracy of the decision tree classifier \", accuracy_score(y_test, y_pred).round(4))"
   ]
  },
  {
   "cell_type": "code",
   "execution_count": 82,
   "metadata": {},
   "outputs": [
    {
     "name": "stdout",
     "output_type": "stream",
     "text": [
      "Train: 0.85525\n",
      "Test 0.8274966249789062\n",
      "parameters {'learning_rate': 0.1, 'n_estimators': 10}\n"
     ]
    }
   ],
   "source": [
    "from sklearn.model_selection import KFold\n",
    "from sklearn.ensemble import AdaBoostClassifier\n",
    "from sklearn.model_selection import cross_val_score\n",
    "from sklearn.model_selection import cross_val_predict\n",
    "kfold =KFold(n_splits=5, random_state=0)\n",
    "param_grid = {'n_estimators': [10, 50, 100],'learning_rate': [0.1, 0.5, 1]}\n",
    "grid_search = GridSearchCV(AdaBoostClassifier(dt_clf, random_state = 0), param_grid, cv=5, return_train_score=True)\n",
    "grid_search.fit(X_train, y_train)\n",
    "test=cross_val_score(grid_search,X_test, y_test,cv=5).mean()\n",
    "print(\"Train:\",grid_search.best_score_)\n",
    "print(\"Test\",test)\n",
    "print(\"parameters\",grid_search.best_params_)"
   ]
  },
  {
   "cell_type": "code",
   "execution_count": 91,
   "metadata": {},
   "outputs": [
    {
     "name": "stdout",
     "output_type": "stream",
     "text": [
      "Accuracy of the Classifier:  0.849\n"
     ]
    }
   ],
   "source": [
    "#Accuracy after applying AdaBoost\n",
    "from sklearn.metrics import accuracy_score\n",
    "accuracy = accuracy_score(y_test, grid_search.predict(X_test))\n",
    "print(\"Accuracy of the Classifier: \",accuracy)"
   ]
  },
  {
   "cell_type": "markdown",
   "metadata": {},
   "source": [
    "## Gradient Boosting"
   ]
  },
  {
   "cell_type": "code",
   "execution_count": null,
   "metadata": {},
   "outputs": [],
   "source": []
  },
  {
   "cell_type": "code",
   "execution_count": null,
   "metadata": {},
   "outputs": [],
   "source": [
    "# grid search to find best parameters for gradient boosting\n",
    "from sklearn.model_selection import GridSearchCV\n",
    "from sklearn.ensemble import GradientBoostingClassifier\n",
    "param_grid = {'n_estimators': [50,100,200,500],\n",
    "              'learning_rate': [.01, .05, .1, 1], 'max_depth': np.arange(1, 10)}\n",
    "\n",
    "grid_search = GridSearchCV(GradientBoostingClassifier(random_state = 0), param_grid, cv=10, return_train_score=True)\n",
    "grid_search.fit(X_train, y_train)\n",
    "print(\"Best parameters: {}\".format(grid_search.best_params_))\n",
    "print(\"Best cross-validation score: {:.4f}\".format(grid_search.best_score_))"
   ]
  },
  {
   "cell_type": "code",
   "execution_count": null,
   "metadata": {},
   "outputs": [],
   "source": [
    "gb = GradientBoostingClassifier(random_state=0, learning_rate= 0.1, max_depth = 5, n_estimators=100)\n",
    "gb.fit(X_train1, y_train1) \n",
    "y_pred = gb.predict(X_test1)"
   ]
  },
  {
   "cell_type": "code",
   "execution_count": null,
   "metadata": {},
   "outputs": [],
   "source": [
    "from sklearn.metrics import confusion_matrix\n",
    "confusion = confusion_matrix(y_test, grid_search.predict(X_test))\n",
    "print(\"Confusion matrix for test: \\n\",confusion)"
   ]
  },
  {
   "cell_type": "code",
   "execution_count": null,
   "metadata": {},
   "outputs": [],
   "source": [
    "confusion = confusion_matrix(y_train, grid_search.predict(X_train))\n",
    "print(\"Confusion matrix for train: \\n\",confusion)"
   ]
  },
  {
   "cell_type": "code",
   "execution_count": null,
   "metadata": {},
   "outputs": [],
   "source": [
    "from sklearn.metrics import accuracy_score\n",
    "accuracy = accuracy_score(y_test, grid_search.predict(X_test))\n",
    "print(\"Accuracy of the Classifier: \",accuracy)"
   ]
  },
  {
   "cell_type": "code",
   "execution_count": null,
   "metadata": {},
   "outputs": [],
   "source": []
  },
  {
   "cell_type": "markdown",
   "metadata": {},
   "source": [
    "## PCA for Classification"
   ]
  },
  {
   "cell_type": "code",
   "execution_count": 107,
   "metadata": {},
   "outputs": [
    {
     "data": {
      "text/plain": [
       "8"
      ]
     },
     "execution_count": 107,
     "metadata": {},
     "output_type": "execute_result"
    }
   ],
   "source": [
    "from sklearn.decomposition import PCA\n",
    "from sklearn.model_selection import GridSearchCV\n",
    "\n",
    "pca_classification = PCA(n_components = .95)\n",
    "X_train_class = pca_classification.fit_transform(X_train)\n",
    "X_test_class = pca_classification.transform(X_test)\n",
    "pca_classification.n_components_"
   ]
  },
  {
   "cell_type": "code",
   "execution_count": 116,
   "metadata": {},
   "outputs": [
    {
     "data": {
      "text/plain": [
       "(10000, 13)"
      ]
     },
     "execution_count": 116,
     "metadata": {},
     "output_type": "execute_result"
    }
   ],
   "source": [
    "X.shape"
   ]
  },
  {
   "cell_type": "code",
   "execution_count": 117,
   "metadata": {},
   "outputs": [],
   "source": [
    "from sklearn.decomposition import PCA\n",
    "\n",
    "pca = PCA(n_components= 0.95)\n",
    "X_train_class = pca_classification.fit_transform(X_train1)\n",
    "X_test_class = pca_classification.transform(X_test1)\n",
    "pca.fit(X_train)\n",
    "X_train_reduced = pca.transform(X_train)\n",
    "X_test_reduced = pca.transform(X_test"
   ]
  },
  {
   "cell_type": "code",
   "execution_count": 119,
   "metadata": {},
   "outputs": [],
   "source": []
  },
  {
   "cell_type": "markdown",
   "metadata": {},
   "source": [
    "### PCA on KNN Classifier"
   ]
  },
  {
   "cell_type": "code",
   "execution_count": 120,
   "metadata": {},
   "outputs": [
    {
     "data": {
      "text/plain": [
       "KNeighborsClassifier(algorithm='auto', leaf_size=30, metric='minkowski',\n",
       "           metric_params=None, n_jobs=None, n_neighbors=6, p=2,\n",
       "           weights='uniform')"
      ]
     },
     "execution_count": 120,
     "metadata": {},
     "output_type": "execute_result"
    }
   ],
   "source": [
    "from sklearn.neighbors import KNeighborsClassifier\n",
    "knn_clf.fit(X_train_reduced, y_train)"
   ]
  },
  {
   "cell_type": "code",
   "execution_count": 121,
   "metadata": {},
   "outputs": [
    {
     "name": "stdout",
     "output_type": "stream",
     "text": [
      "Confusion matrix: [[1560   57]\n",
      " [ 341   42]]\n"
     ]
    }
   ],
   "source": [
    "from sklearn.metrics import confusion_matrix\n",
    "confusion = confusion_matrix(y_test, knn_clf.predict(X_test_reduced))\n",
    "print(\"Confusion matrix:\",confusion)"
   ]
  },
  {
   "cell_type": "code",
   "execution_count": 124,
   "metadata": {},
   "outputs": [
    {
     "name": "stdout",
     "output_type": "stream",
     "text": [
      "Best parameters: {'n_neighbors': 8}\n",
      "Best cross-validation score: 0.79\n"
     ]
    }
   ],
   "source": [
    "from sklearn.neighbors import KNeighborsClassifier\n",
    "param_grid = {'n_neighbors': range(1,10)}\n",
    "grid_search = GridSearchCV(KNeighborsClassifier(), param_grid, cv=10, return_train_score=True)\n",
    "grid_search.fit(X_train_reduced, y_train)\n",
    "print(\"Best parameters: {}\".format(grid_search.best_params_))\n",
    "print(\"Best cross-validation score: {:.2f}\".format(grid_search.best_score_))"
   ]
  },
  {
   "cell_type": "code",
   "execution_count": 128,
   "metadata": {},
   "outputs": [
    {
     "name": "stdout",
     "output_type": "stream",
     "text": [
      "Train score:  0.816625\n",
      "Test score:  0.801\n",
      "Accuracy of the Classifier: 0.801\n"
     ]
    }
   ],
   "source": [
    "print('Train score: ', knn_clf.score(X_train_reduced, y_train))\n",
    "print('Test score: ', knn_clf.score(X_test_reduced, y_test))\n",
    "\n",
    "accuracy = accuracy_score(y_test, knn_clf.predict(X_test_reduced))\n",
    "print(\"Accuracy of the Classifier:\",accuracy)"
   ]
  },
  {
   "cell_type": "code",
   "execution_count": 126,
   "metadata": {},
   "outputs": [
    {
     "data": {
      "text/plain": [
       "<matplotlib.legend.Legend at 0x1a1ec39748>"
      ]
     },
     "execution_count": 126,
     "metadata": {},
     "output_type": "execute_result"
    },
    {
     "data": {
      "image/png": "[encoded data removed]",
      "text/plain": [
       "<Figure size 432x288 with 1 Axes>"
      ]
     },
     "metadata": {},
     "output_type": "display_data"
    }
   ],
   "source": [
    "results = pd.DataFrame(grid_search.cv_results_)\n",
    "plt.plot(results['param_n_neighbors'],results['mean_test_score'],c='g',label='Test score')\n",
    "plt.plot(results['param_n_neighbors'],results['mean_train_score'],c='b',label='Train score')\n",
    "plt.title('Number of Neighbors Vs. Mean Train/Validation Accuracy')\n",
    "plt.xlabel('Number of Neighbors')\n",
    "plt.ylabel('Accuracy')\n",
    "plt.legend()"
   ]
  },
  {
   "cell_type": "code",
   "execution_count": 198,
   "metadata": {},
   "outputs": [],
   "source": [
    "from sklearn.metrics import recall_score, precision_score, f1_score, roc_auc_score\n",
    "precision = precision_score(y_test, knn_clf.predict(X_test_reduced))\n",
    "recall = recall_score(y_test, knn_clf.predict(X_test_reduced))\n",
    "f1 = f1_score(y_test, knn_clf.predict(X_test_reduced))\n",
    "auc = roc_auc_score(y_test, knn_clf.predict(X_test_reduced))\n"
   ]
  },
  {
   "cell_type": "code",
   "execution_count": 215,
   "metadata": {},
   "outputs": [
    {
     "data": {
      "text/html": [
       "<div>\n",
       "<style scoped>\n",
       "    .dataframe tbody tr th:only-of-type {\n",
       "        vertical-align: middle;\n",
       "    }\n",
       "\n",
       "    .dataframe tbody tr th {\n",
       "        vertical-align: top;\n",
       "    }\n",
       "\n",
       "    .dataframe thead th {\n",
       "        text-align: right;\n",
       "    }\n",
       "</style>\n",
       "<table border=\"1\" class=\"dataframe\">\n",
       "  <thead>\n",
       "    <tr style=\"text-align: right;\">\n",
       "      <th></th>\n",
       "      <th>S.No</th>\n",
       "      <th>Model_Name</th>\n",
       "      <th>Train_score</th>\n",
       "      <th>Test_Score</th>\n",
       "      <th>Accuracy</th>\n",
       "      <th>precision</th>\n",
       "      <th>recall</th>\n",
       "      <th>f1</th>\n",
       "      <th>AUC</th>\n",
       "    </tr>\n",
       "  </thead>\n",
       "  <tbody>\n",
       "    <tr>\n",
       "      <th>0</th>\n",
       "      <td>1</td>\n",
       "      <td>PCA - KNN</td>\n",
       "      <td>0.816625</td>\n",
       "      <td>0.801</td>\n",
       "      <td>0.809</td>\n",
       "      <td>1.0</td>\n",
       "      <td>0.002611</td>\n",
       "      <td>0.005208</td>\n",
       "      <td>0.501305</td>\n",
       "    </tr>\n",
       "  </tbody>\n",
       "</table>\n",
       "</div>"
      ],
      "text/plain": [
       "  S.No Model_Name  Train_score  Test_Score  Accuracy  precision    recall  \\\n",
       "0    1  PCA - KNN     0.816625       0.801     0.809        1.0  0.002611   \n",
       "\n",
       "         f1       AUC  \n",
       "0  0.005208  0.501305  "
      ]
     },
     "execution_count": 215,
     "metadata": {},
     "output_type": "execute_result"
    }
   ],
   "source": [
    "PCA_results = pd.DataFrame(columns=('S.No','Model_Name','Train_score','Test_Score', 'Accuracy','precision','recall','f1','AUC'))\n",
    "PCA_results.loc[len(PCA_results)]=[1,'PCA - KNN',knn_clf.score(X_train_reduced, y_train),knn_clf.score(X_test_reduced, y_test), accuracy, precision, recall, f1, auc]\n",
    "PCA_results\n"
   ]
  },
  {
   "cell_type": "markdown",
   "metadata": {},
   "source": [
    "### PCA on Logistic Regression "
   ]
  },
  {
   "cell_type": "code",
   "execution_count": 138,
   "metadata": {},
   "outputs": [
    {
     "data": {
      "text/plain": [
       "LogisticRegression(C=1.0, class_weight=None, dual=False, fit_intercept=True,\n",
       "          intercept_scaling=1, max_iter=100, multi_class='warn',\n",
       "          n_jobs=None, penalty='l2', random_state=None, solver='lbfgs',\n",
       "          tol=0.0001, verbose=0, warm_start=False)"
      ]
     },
     "execution_count": 138,
     "metadata": {},
     "output_type": "execute_result"
    }
   ],
   "source": [
    "log_clf.fit(X_train_reduced, y_train)"
   ]
  },
  {
   "cell_type": "code",
   "execution_count": 139,
   "metadata": {},
   "outputs": [
    {
     "name": "stdout",
     "output_type": "stream",
     "text": [
      "Train score:  0.796\n",
      "Test score:  0.8085\n"
     ]
    }
   ],
   "source": [
    "print('Train score: ', log_clf.score(X_train_reduced, y_train))\n",
    "print('Test score: ', log_clf.score(X_test_reduced, y_test))"
   ]
  },
  {
   "cell_type": "code",
   "execution_count": 148,
   "metadata": {},
   "outputs": [
    {
     "name": "stdout",
     "output_type": "stream",
     "text": [
      "Confusion matrix for test: [[1596   21]\n",
      " [ 362   21]]\n"
     ]
    }
   ],
   "source": [
    "from sklearn.metrics import confusion_matrix\n",
    "confusion = confusion_matrix(y_test, log_clf.predict(X_test_reduced))\n",
    "print(\"Confusion matrix for test:\",confusion)"
   ]
  },
  {
   "cell_type": "code",
   "execution_count": 149,
   "metadata": {},
   "outputs": [
    {
     "name": "stdout",
     "output_type": "stream",
     "text": [
      "Confusion matrix for train: [[6266   80]\n",
      " [1552  102]]\n"
     ]
    }
   ],
   "source": [
    "confusion = confusion_matrix(y_train, log_clf.predict(X_train_reduced))\n",
    "print(\"Confusion matrix for train:\",confusion)"
   ]
  },
  {
   "cell_type": "code",
   "execution_count": 216,
   "metadata": {},
   "outputs": [],
   "source": [
    "accuracy = accuracy_score(y_test, log_clf.predict(X_test_reduced))\n",
    "precision = precision_score(y_test, log_clf.predict(X_test_reduced))\n",
    "recall = recall_score(y_test, log_clf.predict(X_test_reduced))\n",
    "f1 = f1_score(y_test, log_clf.predict(X_test_reduced))\n",
    "auc = roc_auc_score(y_test, log_clf.predict(X_test_reduced))"
   ]
  },
  {
   "cell_type": "code",
   "execution_count": 217,
   "metadata": {},
   "outputs": [],
   "source": [
    "PCA_results.loc[len(PCA_results)]=[2, 'PCA-Logistic', log_clf.score(X_train_reduced, y_train),log_clf.score(X_test_reduced, y_test), accuracy, precision, recall, f1, auc]\n"
   ]
  },
  {
   "cell_type": "code",
   "execution_count": 218,
   "metadata": {},
   "outputs": [
    {
     "data": {
      "text/html": [
       "<div>\n",
       "<style scoped>\n",
       "    .dataframe tbody tr th:only-of-type {\n",
       "        vertical-align: middle;\n",
       "    }\n",
       "\n",
       "    .dataframe tbody tr th {\n",
       "        vertical-align: top;\n",
       "    }\n",
       "\n",
       "    .dataframe thead th {\n",
       "        text-align: right;\n",
       "    }\n",
       "</style>\n",
       "<table border=\"1\" class=\"dataframe\">\n",
       "  <thead>\n",
       "    <tr style=\"text-align: right;\">\n",
       "      <th></th>\n",
       "      <th>S.No</th>\n",
       "      <th>Model_Name</th>\n",
       "      <th>Train_score</th>\n",
       "      <th>Test_Score</th>\n",
       "      <th>Accuracy</th>\n",
       "      <th>precision</th>\n",
       "      <th>recall</th>\n",
       "      <th>f1</th>\n",
       "      <th>AUC</th>\n",
       "    </tr>\n",
       "  </thead>\n",
       "  <tbody>\n",
       "    <tr>\n",
       "      <th>0</th>\n",
       "      <td>1</td>\n",
       "      <td>PCA - KNN</td>\n",
       "      <td>0.816625</td>\n",
       "      <td>0.8010</td>\n",
       "      <td>0.8090</td>\n",
       "      <td>1.0</td>\n",
       "      <td>0.002611</td>\n",
       "      <td>0.005208</td>\n",
       "      <td>0.501305</td>\n",
       "    </tr>\n",
       "    <tr>\n",
       "      <th>1</th>\n",
       "      <td>2</td>\n",
       "      <td>PCA-Logistic</td>\n",
       "      <td>0.796000</td>\n",
       "      <td>0.8085</td>\n",
       "      <td>0.8085</td>\n",
       "      <td>0.5</td>\n",
       "      <td>0.054830</td>\n",
       "      <td>0.098824</td>\n",
       "      <td>0.520922</td>\n",
       "    </tr>\n",
       "  </tbody>\n",
       "</table>\n",
       "</div>"
      ],
      "text/plain": [
       "  S.No    Model_Name  Train_score  Test_Score  Accuracy  precision    recall  \\\n",
       "0    1     PCA - KNN     0.816625      0.8010    0.8090        1.0  0.002611   \n",
       "1    2  PCA-Logistic     0.796000      0.8085    0.8085        0.5  0.054830   \n",
       "\n",
       "         f1       AUC  \n",
       "0  0.005208  0.501305  \n",
       "1  0.098824  0.520922  "
      ]
     },
     "execution_count": 218,
     "metadata": {},
     "output_type": "execute_result"
    }
   ],
   "source": [
    "PCA_results\n"
   ]
  },
  {
   "cell_type": "markdown",
   "metadata": {},
   "source": [
    "### PCA on Linear SVM"
   ]
  },
  {
   "cell_type": "code",
   "execution_count": 160,
   "metadata": {},
   "outputs": [
    {
     "data": {
      "text/plain": [
       "LinearSVC(C=1, class_weight=None, dual=True, fit_intercept=True,\n",
       "     intercept_scaling=1, loss='squared_hinge', max_iter=1000,\n",
       "     multi_class='ovr', penalty='l2', random_state=None, tol=0.0001,\n",
       "     verbose=0)"
      ]
     },
     "execution_count": 160,
     "metadata": {},
     "output_type": "execute_result"
    }
   ],
   "source": [
    "from sklearn.svm import SVC\n",
    "from sklearn.svm import LinearSVC\n",
    "svm_clf = LinearSVC(C = 1)\n",
    "svm_clf.fit(X_train_reduced, y_train)"
   ]
  },
  {
   "cell_type": "code",
   "execution_count": 161,
   "metadata": {},
   "outputs": [
    {
     "name": "stdout",
     "output_type": "stream",
     "text": [
      "Train score:  0.7935\n",
      "Test score:  0.8085\n"
     ]
    }
   ],
   "source": [
    "print('Train score: ', svm_clf.score(X_train_reduced, y_train))\n",
    "print('Test score: ', svm_clf.score(X_test_reduced, y_test))"
   ]
  },
  {
   "cell_type": "code",
   "execution_count": 164,
   "metadata": {},
   "outputs": [
    {
     "name": "stdout",
     "output_type": "stream",
     "text": [
      "Confusion matrix for test:\n",
      " [[1617    0]\n",
      " [ 383    0]]\n",
      "Confusion matrix for train:\n",
      " [[6346    0]\n",
      " [1652    2]]\n"
     ]
    }
   ],
   "source": [
    "confusion = confusion_matrix(y_test, svm_clf.predict(X_test_reduced))\n",
    "print(\"Confusion matrix for test:\\n\" , confusion)\n",
    "confusion = confusion_matrix(y_train, svm_clf.predict(X_train_reduced))\n",
    "print(\"Confusion matrix for train:\\n\" , confusion)"
   ]
  },
  {
   "cell_type": "code",
   "execution_count": 219,
   "metadata": {},
   "outputs": [],
   "source": [
    "accuracy = accuracy_score(y_test, svm_clf.predict(X_test_reduced))\n",
    "precision = precision_score(y_test, svm_clf.predict(X_test_reduced))\n",
    "recall = recall_score(y_test, svm_clf.predict(X_test_reduced))\n",
    "f1 = f1_score(y_test, svm_clf.predict(X_test_reduced))\n",
    "auc = roc_auc_score(y_test, svm_clf.predict(X_test_reduced))\n"
   ]
  },
  {
   "cell_type": "code",
   "execution_count": 220,
   "metadata": {},
   "outputs": [
    {
     "data": {
      "text/html": [
       "<div>\n",
       "<style scoped>\n",
       "    .dataframe tbody tr th:only-of-type {\n",
       "        vertical-align: middle;\n",
       "    }\n",
       "\n",
       "    .dataframe tbody tr th {\n",
       "        vertical-align: top;\n",
       "    }\n",
       "\n",
       "    .dataframe thead th {\n",
       "        text-align: right;\n",
       "    }\n",
       "</style>\n",
       "<table border=\"1\" class=\"dataframe\">\n",
       "  <thead>\n",
       "    <tr style=\"text-align: right;\">\n",
       "      <th></th>\n",
       "      <th>S.No</th>\n",
       "      <th>Model_Name</th>\n",
       "      <th>Train_score</th>\n",
       "      <th>Test_Score</th>\n",
       "      <th>Accuracy</th>\n",
       "      <th>precision</th>\n",
       "      <th>recall</th>\n",
       "      <th>f1</th>\n",
       "      <th>AUC</th>\n",
       "    </tr>\n",
       "  </thead>\n",
       "  <tbody>\n",
       "    <tr>\n",
       "      <th>0</th>\n",
       "      <td>1</td>\n",
       "      <td>PCA - KNN</td>\n",
       "      <td>0.816625</td>\n",
       "      <td>0.8010</td>\n",
       "      <td>0.8090</td>\n",
       "      <td>1.0</td>\n",
       "      <td>0.002611</td>\n",
       "      <td>0.005208</td>\n",
       "      <td>0.501305</td>\n",
       "    </tr>\n",
       "    <tr>\n",
       "      <th>1</th>\n",
       "      <td>2</td>\n",
       "      <td>PCA-Logistic</td>\n",
       "      <td>0.796000</td>\n",
       "      <td>0.8085</td>\n",
       "      <td>0.8085</td>\n",
       "      <td>0.5</td>\n",
       "      <td>0.054830</td>\n",
       "      <td>0.098824</td>\n",
       "      <td>0.520922</td>\n",
       "    </tr>\n",
       "    <tr>\n",
       "      <th>2</th>\n",
       "      <td>3</td>\n",
       "      <td>Linear SVC</td>\n",
       "      <td>0.793500</td>\n",
       "      <td>0.8085</td>\n",
       "      <td>0.8085</td>\n",
       "      <td>0.0</td>\n",
       "      <td>0.000000</td>\n",
       "      <td>0.000000</td>\n",
       "      <td>0.500000</td>\n",
       "    </tr>\n",
       "  </tbody>\n",
       "</table>\n",
       "</div>"
      ],
      "text/plain": [
       "  S.No    Model_Name  Train_score  Test_Score  Accuracy  precision    recall  \\\n",
       "0    1     PCA - KNN     0.816625      0.8010    0.8090        1.0  0.002611   \n",
       "1    2  PCA-Logistic     0.796000      0.8085    0.8085        0.5  0.054830   \n",
       "2    3    Linear SVC     0.793500      0.8085    0.8085        0.0  0.000000   \n",
       "\n",
       "         f1       AUC  \n",
       "0  0.005208  0.501305  \n",
       "1  0.098824  0.520922  \n",
       "2  0.000000  0.500000  "
      ]
     },
     "execution_count": 220,
     "metadata": {},
     "output_type": "execute_result"
    }
   ],
   "source": [
    "PCA_results.loc[len(PCA_results)]=[3,'Linear SVC',svm_clf.score(X_train_reduced, y_train),svm_clf.score(X_test_reduced, y_test), accuracy, precision, recall, f1, auc]\n",
    "PCA_results"
   ]
  },
  {
   "cell_type": "markdown",
   "metadata": {},
   "source": [
    "### PCA on SVC Kernel-Linear"
   ]
  },
  {
   "cell_type": "code",
   "execution_count": 182,
   "metadata": {},
   "outputs": [
    {
     "data": {
      "text/plain": [
       "SVC(C=100, cache_size=200, class_weight=None, coef0=0.0,\n",
       "  decision_function_shape='ovr', degree=3, gamma='auto_deprecated',\n",
       "  kernel='linear', max_iter=-1, probability=False, random_state=None,\n",
       "  shrinking=True, tol=0.001, verbose=False)"
      ]
     },
     "execution_count": 182,
     "metadata": {},
     "output_type": "execute_result"
    }
   ],
   "source": [
    "sk_clf = SVC(kernel='linear',C = 100)\n",
    "sk_clf.fit(X_train_reduced, y_train)"
   ]
  },
  {
   "cell_type": "code",
   "execution_count": 184,
   "metadata": {},
   "outputs": [
    {
     "name": "stdout",
     "output_type": "stream",
     "text": [
      "Train score:  0.79325\n",
      "Test score:  0.8085\n"
     ]
    }
   ],
   "source": [
    "print('Train score: ', sk_clf.score(X_train_reduced, y_train))\n",
    "print('Test score: ', sk_clf.score(X_test_reduced, y_test))"
   ]
  },
  {
   "cell_type": "code",
   "execution_count": 185,
   "metadata": {},
   "outputs": [
    {
     "name": "stdout",
     "output_type": "stream",
     "text": [
      "Confusion matrix for test:\n",
      " [[1617    0]\n",
      " [ 383    0]]\n",
      "Confusion matrix for train:\n",
      " [[6346    0]\n",
      " [1654    0]]\n"
     ]
    }
   ],
   "source": [
    "confusion = confusion_matrix(y_test, sk_clf.predict(X_test_reduced))\n",
    "print(\"Confusion matrix for test:\\n\" , confusion)\n",
    "confusion = confusion_matrix(y_train, sk_clf.predict(X_train_reduced))\n",
    "print(\"Confusion matrix for train:\\n\" , confusion)"
   ]
  },
  {
   "cell_type": "code",
   "execution_count": 221,
   "metadata": {},
   "outputs": [],
   "source": [
    "accuracy = accuracy_score(y_test, sk_clf.predict(X_test_reduced))\n",
    "precision = precision_score(y_test, sk_clf.predict(X_test_reduced))\n",
    "recall = recall_score(y_test, sk_clf.predict(X_test_reduced))\n",
    "f1 = f1_score(y_test, sk_clf.predict(X_test_reduced))\n",
    "auc = roc_auc_score(y_test, sk_clf.predict(X_test_reduced))\n"
   ]
  },
  {
   "cell_type": "code",
   "execution_count": 222,
   "metadata": {},
   "outputs": [
    {
     "data": {
      "text/html": [
       "<div>\n",
       "<style scoped>\n",
       "    .dataframe tbody tr th:only-of-type {\n",
       "        vertical-align: middle;\n",
       "    }\n",
       "\n",
       "    .dataframe tbody tr th {\n",
       "        vertical-align: top;\n",
       "    }\n",
       "\n",
       "    .dataframe thead th {\n",
       "        text-align: right;\n",
       "    }\n",
       "</style>\n",
       "<table border=\"1\" class=\"dataframe\">\n",
       "  <thead>\n",
       "    <tr style=\"text-align: right;\">\n",
       "      <th></th>\n",
       "      <th>S.No</th>\n",
       "      <th>Model_Name</th>\n",
       "      <th>Train_score</th>\n",
       "      <th>Test_Score</th>\n",
       "      <th>Accuracy</th>\n",
       "      <th>precision</th>\n",
       "      <th>recall</th>\n",
       "      <th>f1</th>\n",
       "      <th>AUC</th>\n",
       "    </tr>\n",
       "  </thead>\n",
       "  <tbody>\n",
       "    <tr>\n",
       "      <th>0</th>\n",
       "      <td>1</td>\n",
       "      <td>PCA - KNN</td>\n",
       "      <td>0.816625</td>\n",
       "      <td>0.8010</td>\n",
       "      <td>0.8090</td>\n",
       "      <td>1.0</td>\n",
       "      <td>0.002611</td>\n",
       "      <td>0.005208</td>\n",
       "      <td>0.501305</td>\n",
       "    </tr>\n",
       "    <tr>\n",
       "      <th>1</th>\n",
       "      <td>2</td>\n",
       "      <td>PCA-Logistic</td>\n",
       "      <td>0.796000</td>\n",
       "      <td>0.8085</td>\n",
       "      <td>0.8085</td>\n",
       "      <td>0.5</td>\n",
       "      <td>0.054830</td>\n",
       "      <td>0.098824</td>\n",
       "      <td>0.520922</td>\n",
       "    </tr>\n",
       "    <tr>\n",
       "      <th>2</th>\n",
       "      <td>3</td>\n",
       "      <td>Linear SVC</td>\n",
       "      <td>0.793500</td>\n",
       "      <td>0.8085</td>\n",
       "      <td>0.8085</td>\n",
       "      <td>0.0</td>\n",
       "      <td>0.000000</td>\n",
       "      <td>0.000000</td>\n",
       "      <td>0.500000</td>\n",
       "    </tr>\n",
       "    <tr>\n",
       "      <th>3</th>\n",
       "      <td>4</td>\n",
       "      <td>SVC Kernel-Linear</td>\n",
       "      <td>0.793250</td>\n",
       "      <td>0.8085</td>\n",
       "      <td>0.8085</td>\n",
       "      <td>0.0</td>\n",
       "      <td>0.000000</td>\n",
       "      <td>0.000000</td>\n",
       "      <td>0.500000</td>\n",
       "    </tr>\n",
       "  </tbody>\n",
       "</table>\n",
       "</div>"
      ],
      "text/plain": [
       "  S.No         Model_Name  Train_score  Test_Score  Accuracy  precision  \\\n",
       "0    1          PCA - KNN     0.816625      0.8010    0.8090        1.0   \n",
       "1    2       PCA-Logistic     0.796000      0.8085    0.8085        0.5   \n",
       "2    3         Linear SVC     0.793500      0.8085    0.8085        0.0   \n",
       "3    4  SVC Kernel-Linear     0.793250      0.8085    0.8085        0.0   \n",
       "\n",
       "     recall        f1       AUC  \n",
       "0  0.002611  0.005208  0.501305  \n",
       "1  0.054830  0.098824  0.520922  \n",
       "2  0.000000  0.000000  0.500000  \n",
       "3  0.000000  0.000000  0.500000  "
      ]
     },
     "execution_count": 222,
     "metadata": {},
     "output_type": "execute_result"
    }
   ],
   "source": [
    "PCA_results.loc[len(PCA_results)]=[4,'SVC Kernel-Linear',sk_clf.score(X_train_reduced, y_train),sk_clf.score(X_test_reduced, y_test), accuracy, precision, recall, f1, auc]\n",
    "PCA_results"
   ]
  },
  {
   "cell_type": "markdown",
   "metadata": {},
   "source": [
    "### PCA on SVC Kernel-RBF"
   ]
  },
  {
   "cell_type": "code",
   "execution_count": 191,
   "metadata": {},
   "outputs": [
    {
     "data": {
      "text/plain": [
       "SVC(C=100, cache_size=200, class_weight=None, coef0=0.0,\n",
       "  decision_function_shape='ovr', degree=3, gamma='auto_deprecated',\n",
       "  kernel='rbf', max_iter=-1, probability=False, random_state=None,\n",
       "  shrinking=True, tol=0.001, verbose=False)"
      ]
     },
     "execution_count": 191,
     "metadata": {},
     "output_type": "execute_result"
    }
   ],
   "source": [
    "svmrbf_clf = SVC(kernel='rbf',C = 100)\n",
    "svmrbf_clf.fit(X_train_reduced, y_train)"
   ]
  },
  {
   "cell_type": "code",
   "execution_count": 192,
   "metadata": {},
   "outputs": [
    {
     "name": "stdout",
     "output_type": "stream",
     "text": [
      "Train score:  0.800375\n",
      "Test score:  0.813\n"
     ]
    }
   ],
   "source": [
    "print('Train score: ', svmrbf_clf.score(X_train_reduced, y_train))\n",
    "print('Test score: ', svmrbf_clf.score(X_test_reduced, y_test))"
   ]
  },
  {
   "cell_type": "code",
   "execution_count": 193,
   "metadata": {},
   "outputs": [
    {
     "name": "stdout",
     "output_type": "stream",
     "text": [
      "Confusion matrix for test:\n",
      " [[1611    6]\n",
      " [ 368   15]]\n",
      "Confusion matrix for train:\n",
      " [[6313   33]\n",
      " [1564   90]]\n"
     ]
    }
   ],
   "source": [
    "confusion = confusion_matrix(y_test, svmrbf_clf.predict(X_test_reduced))\n",
    "print(\"Confusion matrix for test:\\n\" , confusion)\n",
    "confusion = confusion_matrix(y_train, svmrbf_clf.predict(X_train_reduced))\n",
    "print(\"Confusion matrix for train:\\n\" , confusion)"
   ]
  },
  {
   "cell_type": "code",
   "execution_count": 223,
   "metadata": {},
   "outputs": [],
   "source": [
    "accuracy = accuracy_score(y_test, svmrbf_clf.predict(X_test_reduced))\n",
    "precision = precision_score(y_test, svmrbf_clf.predict(X_test_reduced))\n",
    "recall = recall_score(y_test, svmrbf_clf.predict(X_test_reduced))\n",
    "f1 = f1_score(y_test, svmrbf_clf.predict(X_test_reduced))\n",
    "auc = roc_auc_score(y_test, svmrbf_clf.predict(X_test_reduced))"
   ]
  },
  {
   "cell_type": "code",
   "execution_count": 224,
   "metadata": {},
   "outputs": [
    {
     "data": {
      "text/html": [
       "<div>\n",
       "<style scoped>\n",
       "    .dataframe tbody tr th:only-of-type {\n",
       "        vertical-align: middle;\n",
       "    }\n",
       "\n",
       "    .dataframe tbody tr th {\n",
       "        vertical-align: top;\n",
       "    }\n",
       "\n",
       "    .dataframe thead th {\n",
       "        text-align: right;\n",
       "    }\n",
       "</style>\n",
       "<table border=\"1\" class=\"dataframe\">\n",
       "  <thead>\n",
       "    <tr style=\"text-align: right;\">\n",
       "      <th></th>\n",
       "      <th>S.No</th>\n",
       "      <th>Model_Name</th>\n",
       "      <th>Train_score</th>\n",
       "      <th>Test_Score</th>\n",
       "      <th>Accuracy</th>\n",
       "      <th>precision</th>\n",
       "      <th>recall</th>\n",
       "      <th>f1</th>\n",
       "      <th>AUC</th>\n",
       "    </tr>\n",
       "  </thead>\n",
       "  <tbody>\n",
       "    <tr>\n",
       "      <th>0</th>\n",
       "      <td>1</td>\n",
       "      <td>PCA - KNN</td>\n",
       "      <td>0.816625</td>\n",
       "      <td>0.8010</td>\n",
       "      <td>0.8090</td>\n",
       "      <td>1.000000</td>\n",
       "      <td>0.002611</td>\n",
       "      <td>0.005208</td>\n",
       "      <td>0.501305</td>\n",
       "    </tr>\n",
       "    <tr>\n",
       "      <th>1</th>\n",
       "      <td>2</td>\n",
       "      <td>PCA-Logistic</td>\n",
       "      <td>0.796000</td>\n",
       "      <td>0.8085</td>\n",
       "      <td>0.8085</td>\n",
       "      <td>0.500000</td>\n",
       "      <td>0.054830</td>\n",
       "      <td>0.098824</td>\n",
       "      <td>0.520922</td>\n",
       "    </tr>\n",
       "    <tr>\n",
       "      <th>2</th>\n",
       "      <td>3</td>\n",
       "      <td>Linear SVC</td>\n",
       "      <td>0.793500</td>\n",
       "      <td>0.8085</td>\n",
       "      <td>0.8085</td>\n",
       "      <td>0.000000</td>\n",
       "      <td>0.000000</td>\n",
       "      <td>0.000000</td>\n",
       "      <td>0.500000</td>\n",
       "    </tr>\n",
       "    <tr>\n",
       "      <th>3</th>\n",
       "      <td>4</td>\n",
       "      <td>SVC Kernel-Linear</td>\n",
       "      <td>0.793250</td>\n",
       "      <td>0.8085</td>\n",
       "      <td>0.8085</td>\n",
       "      <td>0.000000</td>\n",
       "      <td>0.000000</td>\n",
       "      <td>0.000000</td>\n",
       "      <td>0.500000</td>\n",
       "    </tr>\n",
       "    <tr>\n",
       "      <th>4</th>\n",
       "      <td>5</td>\n",
       "      <td>SVC Kernel-RBF</td>\n",
       "      <td>0.800375</td>\n",
       "      <td>0.8130</td>\n",
       "      <td>0.8130</td>\n",
       "      <td>0.714286</td>\n",
       "      <td>0.039164</td>\n",
       "      <td>0.074257</td>\n",
       "      <td>0.517727</td>\n",
       "    </tr>\n",
       "  </tbody>\n",
       "</table>\n",
       "</div>"
      ],
      "text/plain": [
       "  S.No         Model_Name  Train_score  Test_Score  Accuracy  precision  \\\n",
       "0    1          PCA - KNN     0.816625      0.8010    0.8090   1.000000   \n",
       "1    2       PCA-Logistic     0.796000      0.8085    0.8085   0.500000   \n",
       "2    3         Linear SVC     0.793500      0.8085    0.8085   0.000000   \n",
       "3    4  SVC Kernel-Linear     0.793250      0.8085    0.8085   0.000000   \n",
       "4    5     SVC Kernel-RBF     0.800375      0.8130    0.8130   0.714286   \n",
       "\n",
       "     recall        f1       AUC  \n",
       "0  0.002611  0.005208  0.501305  \n",
       "1  0.054830  0.098824  0.520922  \n",
       "2  0.000000  0.000000  0.500000  \n",
       "3  0.000000  0.000000  0.500000  \n",
       "4  0.039164  0.074257  0.517727  "
      ]
     },
     "execution_count": 224,
     "metadata": {},
     "output_type": "execute_result"
    }
   ],
   "source": [
    "PCA_results.loc[len(PCA_results)]=[5,'SVC Kernel-RBF',svmrbf_clf.score(X_train_reduced, y_train),svmrbf_clf.score(X_test_reduced, y_test), accuracy, precision, recall, f1, auc]\n",
    "PCA_results"
   ]
  },
  {
   "cell_type": "markdown",
   "metadata": {},
   "source": [
    "### PCA on SVC Kernel-Poly"
   ]
  },
  {
   "cell_type": "code",
   "execution_count": 211,
   "metadata": {},
   "outputs": [
    {
     "data": {
      "text/plain": [
       "SVC(C=100, cache_size=200, class_weight=None, coef0=0.0,\n",
       "  decision_function_shape='ovr', degree=3, gamma='auto_deprecated',\n",
       "  kernel='poly', max_iter=-1, probability=False, random_state=None,\n",
       "  shrinking=True, tol=0.001, verbose=False)"
      ]
     },
     "execution_count": 211,
     "metadata": {},
     "output_type": "execute_result"
    }
   ],
   "source": [
    "svmpoly_clf = SVC(kernel='poly',C = 100)\n",
    "svmpoly_clf.fit(X_train_reduced, y_train)"
   ]
  },
  {
   "cell_type": "code",
   "execution_count": 212,
   "metadata": {},
   "outputs": [
    {
     "name": "stdout",
     "output_type": "stream",
     "text": [
      "Train score:  0.79475\n",
      "Test score:  0.809\n"
     ]
    }
   ],
   "source": [
    "print('Train score: ', svmpoly_clf.score(X_train_reduced, y_train))\n",
    "print('Test score: ', svmpoly_clf.score(X_test_reduced, y_test))"
   ]
  },
  {
   "cell_type": "code",
   "execution_count": 213,
   "metadata": {},
   "outputs": [
    {
     "name": "stdout",
     "output_type": "stream",
     "text": [
      "Confusion matrix for test:\n",
      " [[1617    0]\n",
      " [ 382    1]]\n",
      "Confusion matrix for train:\n",
      " [[6346    0]\n",
      " [1642   12]]\n"
     ]
    }
   ],
   "source": [
    "confusion = confusion_matrix(y_test, svmpoly_clf.predict(X_test_reduced))\n",
    "print(\"Confusion matrix for test:\\n\" , confusion)\n",
    "confusion = confusion_matrix(y_train, svmpoly_clf.predict(X_train_reduced))\n",
    "print(\"Confusion matrix for train:\\n\" , confusion)"
   ]
  },
  {
   "cell_type": "code",
   "execution_count": 225,
   "metadata": {},
   "outputs": [],
   "source": [
    "accuracy = accuracy_score(y_test, svmpoly_clf.predict(X_test_reduced))\n",
    "precision = precision_score(y_test, svmpoly_clf.predict(X_test_reduced))\n",
    "recall = recall_score(y_test, svmpoly_clf.predict(X_test_reduced))\n",
    "f1 = f1_score(y_test, svmpoly_clf.predict(X_test_reduced))\n",
    "auc = roc_auc_score(y_test, svmpoly_clf.predict(X_test_reduced))"
   ]
  },
  {
   "cell_type": "code",
   "execution_count": 226,
   "metadata": {},
   "outputs": [
    {
     "data": {
      "text/html": [
       "<div>\n",
       "<style scoped>\n",
       "    .dataframe tbody tr th:only-of-type {\n",
       "        vertical-align: middle;\n",
       "    }\n",
       "\n",
       "    .dataframe tbody tr th {\n",
       "        vertical-align: top;\n",
       "    }\n",
       "\n",
       "    .dataframe thead th {\n",
       "        text-align: right;\n",
       "    }\n",
       "</style>\n",
       "<table border=\"1\" class=\"dataframe\">\n",
       "  <thead>\n",
       "    <tr style=\"text-align: right;\">\n",
       "      <th></th>\n",
       "      <th>S.No</th>\n",
       "      <th>Model_Name</th>\n",
       "      <th>Train_score</th>\n",
       "      <th>Test_Score</th>\n",
       "      <th>Accuracy</th>\n",
       "      <th>precision</th>\n",
       "      <th>recall</th>\n",
       "      <th>f1</th>\n",
       "      <th>AUC</th>\n",
       "    </tr>\n",
       "  </thead>\n",
       "  <tbody>\n",
       "    <tr>\n",
       "      <th>0</th>\n",
       "      <td>1</td>\n",
       "      <td>PCA - KNN</td>\n",
       "      <td>0.816625</td>\n",
       "      <td>0.8010</td>\n",
       "      <td>0.8090</td>\n",
       "      <td>1.000000</td>\n",
       "      <td>0.002611</td>\n",
       "      <td>0.005208</td>\n",
       "      <td>0.501305</td>\n",
       "    </tr>\n",
       "    <tr>\n",
       "      <th>1</th>\n",
       "      <td>2</td>\n",
       "      <td>PCA-Logistic</td>\n",
       "      <td>0.796000</td>\n",
       "      <td>0.8085</td>\n",
       "      <td>0.8085</td>\n",
       "      <td>0.500000</td>\n",
       "      <td>0.054830</td>\n",
       "      <td>0.098824</td>\n",
       "      <td>0.520922</td>\n",
       "    </tr>\n",
       "    <tr>\n",
       "      <th>2</th>\n",
       "      <td>3</td>\n",
       "      <td>Linear SVC</td>\n",
       "      <td>0.793500</td>\n",
       "      <td>0.8085</td>\n",
       "      <td>0.8085</td>\n",
       "      <td>0.000000</td>\n",
       "      <td>0.000000</td>\n",
       "      <td>0.000000</td>\n",
       "      <td>0.500000</td>\n",
       "    </tr>\n",
       "    <tr>\n",
       "      <th>3</th>\n",
       "      <td>4</td>\n",
       "      <td>SVC Kernel-Linear</td>\n",
       "      <td>0.793250</td>\n",
       "      <td>0.8085</td>\n",
       "      <td>0.8085</td>\n",
       "      <td>0.000000</td>\n",
       "      <td>0.000000</td>\n",
       "      <td>0.000000</td>\n",
       "      <td>0.500000</td>\n",
       "    </tr>\n",
       "    <tr>\n",
       "      <th>4</th>\n",
       "      <td>5</td>\n",
       "      <td>SVC Kernel-RBF</td>\n",
       "      <td>0.800375</td>\n",
       "      <td>0.8130</td>\n",
       "      <td>0.8130</td>\n",
       "      <td>0.714286</td>\n",
       "      <td>0.039164</td>\n",
       "      <td>0.074257</td>\n",
       "      <td>0.517727</td>\n",
       "    </tr>\n",
       "    <tr>\n",
       "      <th>5</th>\n",
       "      <td>6</td>\n",
       "      <td>SVC Kernel-Poly</td>\n",
       "      <td>0.794750</td>\n",
       "      <td>0.8090</td>\n",
       "      <td>0.8090</td>\n",
       "      <td>1.000000</td>\n",
       "      <td>0.002611</td>\n",
       "      <td>0.005208</td>\n",
       "      <td>0.501305</td>\n",
       "    </tr>\n",
       "  </tbody>\n",
       "</table>\n",
       "</div>"
      ],
      "text/plain": [
       "  S.No         Model_Name  Train_score  Test_Score  Accuracy  precision  \\\n",
       "0    1          PCA - KNN     0.816625      0.8010    0.8090   1.000000   \n",
       "1    2       PCA-Logistic     0.796000      0.8085    0.8085   0.500000   \n",
       "2    3         Linear SVC     0.793500      0.8085    0.8085   0.000000   \n",
       "3    4  SVC Kernel-Linear     0.793250      0.8085    0.8085   0.000000   \n",
       "4    5     SVC Kernel-RBF     0.800375      0.8130    0.8130   0.714286   \n",
       "5    6    SVC Kernel-Poly     0.794750      0.8090    0.8090   1.000000   \n",
       "\n",
       "     recall        f1       AUC  \n",
       "0  0.002611  0.005208  0.501305  \n",
       "1  0.054830  0.098824  0.520922  \n",
       "2  0.000000  0.000000  0.500000  \n",
       "3  0.000000  0.000000  0.500000  \n",
       "4  0.039164  0.074257  0.517727  \n",
       "5  0.002611  0.005208  0.501305  "
      ]
     },
     "execution_count": 226,
     "metadata": {},
     "output_type": "execute_result"
    }
   ],
   "source": [
    "PCA_results.loc[len(PCA_results)]=[6,'SVC Kernel-Poly',svmpoly_clf.score(X_train_reduced, y_train),svmpoly_clf.score(X_test_reduced, y_test), accuracy, precision, recall, f1, auc]\n",
    "PCA_results"
   ]
  },
  {
   "cell_type": "markdown",
   "metadata": {},
   "source": [
    "### PCA on Decision Tree"
   ]
  },
  {
   "cell_type": "code",
   "execution_count": 227,
   "metadata": {},
   "outputs": [
    {
     "data": {
      "text/plain": [
       "DecisionTreeClassifier(class_weight=None, criterion='gini', max_depth=1,\n",
       "            max_features=None, max_leaf_nodes=None,\n",
       "            min_impurity_decrease=0.0, min_impurity_split=None,\n",
       "            min_samples_leaf=1, min_samples_split=2,\n",
       "            min_weight_fraction_leaf=0.0, presort=False, random_state=0,\n",
       "            splitter='best')"
      ]
     },
     "execution_count": 227,
     "metadata": {},
     "output_type": "execute_result"
    }
   ],
   "source": [
    "dt_clf.fit(X_train_reduced, y_train) "
   ]
  },
  {
   "cell_type": "code",
   "execution_count": 231,
   "metadata": {},
   "outputs": [
    {
     "name": "stdout",
     "output_type": "stream",
     "text": [
      "Best parameters: {'max_depth': 5}\n",
      "Best cross-validation score: 0.81\n",
      "Train score:  0.8075\n",
      "Test score:  0.821\n"
     ]
    }
   ],
   "source": [
    "param_grid = {'max_depth': np.arange(1, 10)}\n",
    "grid_search.fit(X_train_reduced, y_train)\n",
    "grid_search = GridSearchCV(DecisionTreeClassifier(), param_grid, cv=10, return_train_score=True)\n",
    "grid_search.fit(X_train_reduced, y_train)\n",
    "print(\"Best parameters: {}\".format(grid_search.best_params_))\n",
    "print(\"Best cross-validation score: {:.2f}\".format(grid_search.best_score_))\n",
    "print('Train score: ', dt_clf.score(X_train_reduced, y_train))\n",
    "print('Test score: ',dt_clf.score(X_test_reduced, y_test))"
   ]
  },
  {
   "cell_type": "code",
   "execution_count": 232,
   "metadata": {},
   "outputs": [
    {
     "name": "stdout",
     "output_type": "stream",
     "text": [
      "Confusion matrix for test:\n",
      " [[1609    8]\n",
      " [ 350   33]]\n",
      "Confusion matrix for train:\n",
      " [[6322   24]\n",
      " [1516  138]]\n"
     ]
    }
   ],
   "source": [
    "confusion = confusion_matrix(y_test, dt_clf.predict(X_test_reduced))\n",
    "print(\"Confusion matrix for test:\\n\" , confusion)\n",
    "confusion = confusion_matrix(y_train, dt_clf.predict(X_train_reduced))\n",
    "print(\"Confusion matrix for train:\\n\" , confusion)"
   ]
  },
  {
   "cell_type": "code",
   "execution_count": 233,
   "metadata": {},
   "outputs": [],
   "source": [
    "accuracy = accuracy_score(y_test, dt_clf.predict(X_test_reduced))\n",
    "precision = precision_score(y_test, dt_clf.predict(X_test_reduced))\n",
    "recall = recall_score(y_test, dt_clf.predict(X_test_reduced))\n",
    "f1 = f1_score(y_test, dt_clf.predict(X_test_reduced))\n",
    "auc = roc_auc_score(y_test, dt_clf.predict(X_test_reduced))"
   ]
  },
  {
   "cell_type": "code",
   "execution_count": 234,
   "metadata": {},
   "outputs": [
    {
     "data": {
      "text/html": [
       "<div>\n",
       "<style scoped>\n",
       "    .dataframe tbody tr th:only-of-type {\n",
       "        vertical-align: middle;\n",
       "    }\n",
       "\n",
       "    .dataframe tbody tr th {\n",
       "        vertical-align: top;\n",
       "    }\n",
       "\n",
       "    .dataframe thead th {\n",
       "        text-align: right;\n",
       "    }\n",
       "</style>\n",
       "<table border=\"1\" class=\"dataframe\">\n",
       "  <thead>\n",
       "    <tr style=\"text-align: right;\">\n",
       "      <th></th>\n",
       "      <th>S.No</th>\n",
       "      <th>Model_Name</th>\n",
       "      <th>Train_score</th>\n",
       "      <th>Test_Score</th>\n",
       "      <th>Accuracy</th>\n",
       "      <th>precision</th>\n",
       "      <th>recall</th>\n",
       "      <th>f1</th>\n",
       "      <th>AUC</th>\n",
       "    </tr>\n",
       "  </thead>\n",
       "  <tbody>\n",
       "    <tr>\n",
       "      <th>0</th>\n",
       "      <td>1</td>\n",
       "      <td>PCA - KNN</td>\n",
       "      <td>0.816625</td>\n",
       "      <td>0.8010</td>\n",
       "      <td>0.8090</td>\n",
       "      <td>1.000000</td>\n",
       "      <td>0.002611</td>\n",
       "      <td>0.005208</td>\n",
       "      <td>0.501305</td>\n",
       "    </tr>\n",
       "    <tr>\n",
       "      <th>1</th>\n",
       "      <td>2</td>\n",
       "      <td>PCA-Logistic</td>\n",
       "      <td>0.796000</td>\n",
       "      <td>0.8085</td>\n",
       "      <td>0.8085</td>\n",
       "      <td>0.500000</td>\n",
       "      <td>0.054830</td>\n",
       "      <td>0.098824</td>\n",
       "      <td>0.520922</td>\n",
       "    </tr>\n",
       "    <tr>\n",
       "      <th>2</th>\n",
       "      <td>3</td>\n",
       "      <td>Linear SVC</td>\n",
       "      <td>0.793500</td>\n",
       "      <td>0.8085</td>\n",
       "      <td>0.8085</td>\n",
       "      <td>0.000000</td>\n",
       "      <td>0.000000</td>\n",
       "      <td>0.000000</td>\n",
       "      <td>0.500000</td>\n",
       "    </tr>\n",
       "    <tr>\n",
       "      <th>3</th>\n",
       "      <td>4</td>\n",
       "      <td>SVC Kernel-Linear</td>\n",
       "      <td>0.793250</td>\n",
       "      <td>0.8085</td>\n",
       "      <td>0.8085</td>\n",
       "      <td>0.000000</td>\n",
       "      <td>0.000000</td>\n",
       "      <td>0.000000</td>\n",
       "      <td>0.500000</td>\n",
       "    </tr>\n",
       "    <tr>\n",
       "      <th>4</th>\n",
       "      <td>5</td>\n",
       "      <td>SVC Kernel-RBF</td>\n",
       "      <td>0.800375</td>\n",
       "      <td>0.8130</td>\n",
       "      <td>0.8130</td>\n",
       "      <td>0.714286</td>\n",
       "      <td>0.039164</td>\n",
       "      <td>0.074257</td>\n",
       "      <td>0.517727</td>\n",
       "    </tr>\n",
       "    <tr>\n",
       "      <th>5</th>\n",
       "      <td>6</td>\n",
       "      <td>SVC Kernel-Poly</td>\n",
       "      <td>0.794750</td>\n",
       "      <td>0.8090</td>\n",
       "      <td>0.8090</td>\n",
       "      <td>1.000000</td>\n",
       "      <td>0.002611</td>\n",
       "      <td>0.005208</td>\n",
       "      <td>0.501305</td>\n",
       "    </tr>\n",
       "    <tr>\n",
       "      <th>6</th>\n",
       "      <td>7</td>\n",
       "      <td>Decision Tree</td>\n",
       "      <td>0.807500</td>\n",
       "      <td>0.8090</td>\n",
       "      <td>0.8210</td>\n",
       "      <td>0.804878</td>\n",
       "      <td>0.086162</td>\n",
       "      <td>0.155660</td>\n",
       "      <td>0.540607</td>\n",
       "    </tr>\n",
       "  </tbody>\n",
       "</table>\n",
       "</div>"
      ],
      "text/plain": [
       "  S.No         Model_Name  Train_score  Test_Score  Accuracy  precision  \\\n",
       "0    1          PCA - KNN     0.816625      0.8010    0.8090   1.000000   \n",
       "1    2       PCA-Logistic     0.796000      0.8085    0.8085   0.500000   \n",
       "2    3         Linear SVC     0.793500      0.8085    0.8085   0.000000   \n",
       "3    4  SVC Kernel-Linear     0.793250      0.8085    0.8085   0.000000   \n",
       "4    5     SVC Kernel-RBF     0.800375      0.8130    0.8130   0.714286   \n",
       "5    6    SVC Kernel-Poly     0.794750      0.8090    0.8090   1.000000   \n",
       "6    7      Decision Tree     0.807500      0.8090    0.8210   0.804878   \n",
       "\n",
       "     recall        f1       AUC  \n",
       "0  0.002611  0.005208  0.501305  \n",
       "1  0.054830  0.098824  0.520922  \n",
       "2  0.000000  0.000000  0.500000  \n",
       "3  0.000000  0.000000  0.500000  \n",
       "4  0.039164  0.074257  0.517727  \n",
       "5  0.002611  0.005208  0.501305  \n",
       "6  0.086162  0.155660  0.540607  "
      ]
     },
     "execution_count": 234,
     "metadata": {},
     "output_type": "execute_result"
    }
   ],
   "source": [
    "PCA_results.loc[len(PCA_results)]=[7,'Decision Tree', dt_clf.score(X_train_reduced, y_train),svmpoly_clf.score(X_test_reduced, y_test), accuracy, precision, recall, f1, auc]\n",
    "PCA_results"
   ]
  },
  {
   "cell_type": "code",
   "execution_count": 1,
   "metadata": {},
   "outputs": [
    {
     "name": "stderr",
     "output_type": "stream",
     "text": [
      "Using TensorFlow backend.\n"
     ]
    }
   ],
   "source": [
    "from keras.models import Sequential\n",
    "from keras.layers import Dense\n",
    "from keras.wrappers.scikit_learn import KerasClassifier"
   ]
  },
  {
   "cell_type": "code",
   "execution_count": 3,
   "metadata": {},
   "outputs": [
    {
     "data": {
      "text/html": [
       "<div>\n",
       "<style scoped>\n",
       "    .dataframe tbody tr th:only-of-type {\n",
       "        vertical-align: middle;\n",
       "    }\n",
       "\n",
       "    .dataframe tbody tr th {\n",
       "        vertical-align: top;\n",
       "    }\n",
       "\n",
       "    .dataframe thead th {\n",
       "        text-align: right;\n",
       "    }\n",
       "</style>\n",
       "<table border=\"1\" class=\"dataframe\">\n",
       "  <thead>\n",
       "    <tr style=\"text-align: right;\">\n",
       "      <th></th>\n",
       "      <th>Model</th>\n",
       "      <th>Training Scores</th>\n",
       "      <th>Training Scores after PCA</th>\n",
       "      <th>Testing Scores</th>\n",
       "      <th>Testing Scores after PCA</th>\n",
       "    </tr>\n",
       "  </thead>\n",
       "  <tbody>\n",
       "    <tr>\n",
       "      <th>0</th>\n",
       "      <td>KNN</td>\n",
       "      <td>0.89</td>\n",
       "      <td>0.81</td>\n",
       "      <td>0.80</td>\n",
       "      <td>0.80</td>\n",
       "    </tr>\n",
       "    <tr>\n",
       "      <th>1</th>\n",
       "      <td>Logistic Regression</td>\n",
       "      <td>0.80</td>\n",
       "      <td>0.79</td>\n",
       "      <td>0.81</td>\n",
       "      <td>0.80</td>\n",
       "    </tr>\n",
       "    <tr>\n",
       "      <th>2</th>\n",
       "      <td>Linear SVC</td>\n",
       "      <td>0.66</td>\n",
       "      <td>0.79</td>\n",
       "      <td>0.63</td>\n",
       "      <td>0.80</td>\n",
       "    </tr>\n",
       "    <tr>\n",
       "      <th>3</th>\n",
       "      <td>SVC Kernel-Linear</td>\n",
       "      <td>0.78</td>\n",
       "      <td>0.79</td>\n",
       "      <td>0.80</td>\n",
       "      <td>0.80</td>\n",
       "    </tr>\n",
       "    <tr>\n",
       "      <th>4</th>\n",
       "      <td>SVC Kernel-RBF</td>\n",
       "      <td>0.81</td>\n",
       "      <td>0.80</td>\n",
       "      <td>0.81</td>\n",
       "      <td>0.81</td>\n",
       "    </tr>\n",
       "    <tr>\n",
       "      <th>5</th>\n",
       "      <td>SVC Kernel-Poly</td>\n",
       "      <td>0.78</td>\n",
       "      <td>0.79</td>\n",
       "      <td>0.80</td>\n",
       "      <td>0.80</td>\n",
       "    </tr>\n",
       "    <tr>\n",
       "      <th>6</th>\n",
       "      <td>Decision Tree</td>\n",
       "      <td>0.66</td>\n",
       "      <td>0.80</td>\n",
       "      <td>0.64</td>\n",
       "      <td>0.80</td>\n",
       "    </tr>\n",
       "  </tbody>\n",
       "</table>\n",
       "</div>"
      ],
      "text/plain": [
       "                 Model Training Scores Training Scores after PCA  \\\n",
       "0                  KNN            0.89                      0.81   \n",
       "1  Logistic Regression            0.80                      0.79   \n",
       "2           Linear SVC            0.66                      0.79   \n",
       "3    SVC Kernel-Linear            0.78                      0.79   \n",
       "4       SVC Kernel-RBF            0.81                      0.80   \n",
       "5      SVC Kernel-Poly            0.78                      0.79   \n",
       "6        Decision Tree            0.66                      0.80   \n",
       "\n",
       "  Testing Scores Testing Scores after PCA  \n",
       "0           0.80                     0.80  \n",
       "1           0.81                     0.80  \n",
       "2           0.63                     0.80  \n",
       "3           0.80                     0.80  \n",
       "4           0.81                     0.81  \n",
       "5           0.80                     0.80  \n",
       "6           0.64                     0.80  "
      ]
     },
     "execution_count": 3,
     "metadata": {},
     "output_type": "execute_result"
    }
   ],
   "source": [
    "import pandas as pd\n",
    "Model_Summary = {'Model':['KNN','Logistic Regression','Linear SVC','SVC Kernel-Linear','SVC Kernel-RBF','SVC Kernel-Poly','Decision Tree'],\n",
    "    'Training Scores':['0.89', '0.80', '0.66', '0.78','0.81','0.78','0.66'],\n",
    "    'Training Scores after PCA':['0.81', '0.79', '0.79','0.79','0.80', '0.79','0.80'],                  \n",
    "    'Testing Scores':['0.80', '0.81', '0.63', '0.80', '0.81','0.80','0.64'],\n",
    "    'Testing Scores after PCA':['0.80', '0.80', '0.80','0.80', '0.81','0.80','0.80']\n",
    "            }\n",
    "Model_Summary = pd.DataFrame(Model_Summary)\n",
    "Model_Summary"
   ]
  },
  {
   "cell_type": "markdown",
   "metadata": {},
   "source": [
    "#### According to the obtained results, we can see that in few models the train/test accuracy is better without PCA. However, the accuracy are nearly comparable for models with or without PCA.  "
   ]
  },
  {
   "cell_type": "markdown",
   "metadata": {},
   "source": [
    "## Deep Learning Models"
   ]
  },
  {
   "cell_type": "code",
   "execution_count": 48,
   "metadata": {},
   "outputs": [
    {
     "data": {
      "text/plain": [
       "(10000, 13)"
      ]
     },
     "execution_count": 48,
     "metadata": {},
     "output_type": "execute_result"
    }
   ],
   "source": [
    "X = df1.drop(['Exited'],axis = 1)\n",
    "y = df1['Exited']\n",
    "\n",
    "from sklearn.model_selection import train_test_split\n",
    "X_train, X_test, y_train, y_test = train_test_split(X,y)"
   ]
  },
  {
   "cell_type": "code",
   "execution_count": 49,
   "metadata": {},
   "outputs": [],
   "source": [
    "from tensorflow.keras.models import Sequential\n",
    "from tensorflow.keras.layers import Dense, Activation\n",
    "import numpy\n",
    "\n",
    "# fix random seed for reproducibility\n",
    "numpy.random.seed(10)"
   ]
  },
  {
   "cell_type": "code",
   "execution_count": 51,
   "metadata": {},
   "outputs": [
    {
     "name": "stdout",
     "output_type": "stream",
     "text": [
      "Epoch 1/20\n",
      "7500/7500 [==============================] - 0s 46us/sample - loss: 3.2988 - acc: 0.7953\n",
      "Epoch 2/20\n",
      "7500/7500 [==============================] - 0s 33us/sample - loss: 3.2988 - acc: 0.7953\n",
      "Epoch 3/20\n",
      "7500/7500 [==============================] - 0s 25us/sample - loss: 3.2988 - acc: 0.7953\n",
      "Epoch 4/20\n",
      "7500/7500 [==============================] - 0s 27us/sample - loss: 3.2988 - acc: 0.7953\n",
      "Epoch 5/20\n",
      "7500/7500 [==============================] - 0s 27us/sample - loss: 3.2988 - acc: 0.7953\n",
      "Epoch 6/20\n",
      "7500/7500 [==============================] - 0s 27us/sample - loss: 3.2988 - acc: 0.7953\n",
      "Epoch 7/20\n",
      "7500/7500 [==============================] - 0s 26us/sample - loss: 3.2988 - acc: 0.7953\n",
      "Epoch 8/20\n",
      "7500/7500 [==============================] - 0s 26us/sample - loss: 3.2988 - acc: 0.7953\n",
      "Epoch 9/20\n",
      "7500/7500 [==============================] - 0s 27us/sample - loss: 3.2988 - acc: 0.7953\n",
      "Epoch 10/20\n",
      "7500/7500 [==============================] - 0s 26us/sample - loss: 3.2988 - acc: 0.7953\n",
      "Epoch 11/20\n",
      "7500/7500 [==============================] - 0s 27us/sample - loss: 3.2988 - acc: 0.7953\n",
      "Epoch 12/20\n",
      "7500/7500 [==============================] - 0s 26us/sample - loss: 3.2988 - acc: 0.7953\n",
      "Epoch 13/20\n",
      "7500/7500 [==============================] - 0s 27us/sample - loss: 3.2988 - acc: 0.7953\n",
      "Epoch 14/20\n",
      "7500/7500 [==============================] - 0s 26us/sample - loss: 3.2988 - acc: 0.7953\n",
      "Epoch 15/20\n",
      "7500/7500 [==============================] - 0s 26us/sample - loss: 3.2988 - acc: 0.7953\n",
      "Epoch 16/20\n",
      "7500/7500 [==============================] - 0s 25us/sample - loss: 3.2988 - acc: 0.7953\n",
      "Epoch 17/20\n",
      "7500/7500 [==============================] - 0s 26us/sample - loss: 3.2988 - acc: 0.7953\n",
      "Epoch 18/20\n",
      "7500/7500 [==============================] - 0s 27us/sample - loss: 3.2988 - acc: 0.7953\n",
      "Epoch 19/20\n",
      "7500/7500 [==============================] - 0s 28us/sample - loss: 3.2988 - acc: 0.7953\n",
      "Epoch 20/20\n",
      "7500/7500 [==============================] - 0s 27us/sample - loss: 3.2988 - acc: 0.7953\n"
     ]
    },
    {
     "data": {
      "text/plain": [
       "<tensorflow.python.keras.callbacks.History at 0x7f05dc111ed0>"
      ]
     },
     "execution_count": 51,
     "metadata": {},
     "output_type": "execute_result"
    }
   ],
   "source": [
    "# create model\n",
    "model = Sequential()\n",
    "model.add(Dense(8, input_dim=13, activation='relu'))\n",
    "model.add(Dense(8, activation='relu'))\n",
    "model.add(Dense(1, activation='sigmoid'))\n",
    "\n",
    "# Compile model\n",
    "model.compile(loss='binary_crossentropy', optimizer='adam', metrics=['accuracy'])\n",
    "\n",
    "# Fit the model\n",
    "model.fit(X_train, y_train, epochs=20, batch_size=100)"
   ]
  },
  {
   "cell_type": "code",
   "execution_count": 52,
   "metadata": {},
   "outputs": [
    {
     "name": "stdout",
     "output_type": "stream",
     "text": [
      "2500/2500 [==============================] - 0s 67us/sample - loss: 3.2365 - acc: 0.7992\n",
      "\n",
      "acc: 79.92%\n"
     ]
    }
   ],
   "source": [
    "# evaluate the model\n",
    "scores = model.evaluate(X_test, y_test)\n",
    "print(\"\\n%s: %.2f%%\" % (model.metrics_names[1], scores[1]*100))"
   ]
  },
  {
   "cell_type": "code",
   "execution_count": null,
   "metadata": {},
   "outputs": [],
   "source": []
  }
 ],
 "metadata": {
  "kernelspec": {
   "display_name": "Python 3",
   "language": "python",
   "name": "python3"
  },
  "language_info": {
   "codemirror_mode": {
    "name": "ipython",
    "version": 3
   },
   "file_extension": ".py",
   "mimetype": "text/x-python",
   "name": "python",
   "nbconvert_exporter": "python",
   "pygments_lexer": "ipython3",
   "version": "3.7.1"
  }
 },
 "nbformat": 4,
 "nbformat_minor": 4
}
